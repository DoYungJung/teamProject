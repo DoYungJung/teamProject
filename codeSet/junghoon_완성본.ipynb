{
 "cells": [
  {
   "cell_type": "code",
   "execution_count": 3,
   "id": "15884eaf-cf57-4077-a207-7d985b8d56e4",
   "metadata": {},
   "outputs": [],
   "source": [
    "from selenium import webdriver\n",
    "from selenium.webdriver.common.by import By\n",
    "from selenium.webdriver.common.keys import Keys\n",
    "from selenium.webdriver.support.ui import WebDriverWait\n",
    "from selenium.webdriver.support import expected_conditions as EC #selenium에서 사용할 모듈 import\n",
    "from selenium.webdriver import ActionChains\n",
    "\n",
    "import time\n",
    "import requests\n",
    "import bs4\n",
    "import re\n",
    "import csv"
   ]
  },
  {
   "cell_type": "code",
   "execution_count": 4,
   "id": "6ce3ae59-200f-4ed4-b7ad-639ebf0c5e00",
   "metadata": {},
   "outputs": [
    {
     "name": "stderr",
     "output_type": "stream",
     "text": [
      "C:\\Users\\Public\\Documents\\ESTsoft\\CreatorTemp/ipykernel_30412/4217172820.py:3: DeprecationWarning: executable_path has been deprecated, please pass in a Service object\n",
      "  driver = webdriver.Chrome(driver_loc , options=options) #selenium 사용에 필요한 chromedriver.exe 파일 경로 지정\n",
      "C:\\Users\\Public\\Documents\\ESTsoft\\CreatorTemp/ipykernel_30412/4217172820.py:13: DeprecationWarning: find_element_by_class_name is deprecated. Please use find_element(by=By.CLASS_NAME, value=name) instead\n",
      "  search_box = driver.find_element_by_class_name(\"input_search\")\n"
     ]
    }
   ],
   "source": [
    "options = webdriver.ChromeOptions()\n",
    "driver_loc = \"../externlib/chromedriver/chromedriver.exe\"\n",
    "driver = webdriver.Chrome(driver_loc , options=options) #selenium 사용에 필요한 chromedriver.exe 파일 경로 지정\n",
    "\n",
    "driver.get(\"https://map.naver.com/v5/\") #네이버 신 지도 \n",
    "try:\n",
    "    element = WebDriverWait(driver, 10).until(\n",
    "       EC.presence_of_element_located((By.CLASS_NAME, \"input_search\"))\n",
    "   ) #입력창이 뜰 때까지 대기\n",
    "finally:\n",
    "    pass\n",
    "\n",
    "search_box = driver.find_element_by_class_name(\"input_search\")\n",
    "search_box.send_keys(\"건대 음식점\")\n",
    "search_box.send_keys(Keys.ENTER) #검색창에 \"건대 음식점\" 입력\n",
    "\n",
    "time.sleep(7) #화면 표시 기다리기"
   ]
  },
  {
   "cell_type": "code",
   "execution_count": 5,
   "id": "3bb96893-dd4c-428c-8e6a-a22dcc2c98ab",
   "metadata": {},
   "outputs": [
    {
     "name": "stderr",
     "output_type": "stream",
     "text": [
      "C:\\Users\\Public\\Documents\\ESTsoft\\CreatorTemp/ipykernel_30412/2266176445.py:4: DeprecationWarning: find_element_by_* commands are deprecated. Please use find_element() instead\n",
      "  element = driver.find_element_by_id(\"searchIframe\")\n"
     ]
    }
   ],
   "source": [
    "# 데이터 가져오기 위해서 iframe 들어가기\n",
    "#iframe 태그 엘리먼트 찾기\n",
    "driver.switch_to.default_content()\n",
    "element = driver.find_element_by_id(\"searchIframe\")\n",
    "#프레임 이동\n",
    "driver.switch_to.frame(element)"
   ]
  },
  {
   "cell_type": "code",
   "execution_count": 6,
   "id": "f25ae406-2a97-40af-a945-c4c6e4688af4",
   "metadata": {},
   "outputs": [],
   "source": [
    "html = driver.page_source\n",
    "## BeautifulSoup로 페이지 소스 파싱\n",
    "bs = bs4.BeautifulSoup(html, \"html.parser\")\n",
    "\n",
    "# time.sleep(2)"
   ]
  },
  {
   "cell_type": "code",
   "execution_count": 7,
   "id": "de9fcc05-a375-491a-a869-a83974041e0f",
   "metadata": {},
   "outputs": [
    {
     "name": "stderr",
     "output_type": "stream",
     "text": [
      "C:\\Users\\Public\\Documents\\ESTsoft\\CreatorTemp/ipykernel_30412/3143202171.py:1: DeprecationWarning: find_element_by_xpath is deprecated. Please use find_element(by=By.XPATH, value=xpath) instead\n",
      "  scroll_div = driver.find_element_by_xpath(\"/html/body/div[3]/div/div[2]/div[1]\")\n"
     ]
    }
   ],
   "source": [
    "scroll_div = driver.find_element_by_xpath(\"/html/body/div[3]/div/div[2]/div[1]\")\n",
    "#검색 결과로 나타나는 scroll-bar 포함한 div 잡고\n",
    "driver.execute_script(\"arguments[0].scrollBy(0,2000)\", scroll_div)\n",
    "time.sleep(2)\n",
    "driver.execute_script(\"arguments[0].scrollBy(0,2000);\", scroll_div)\n",
    "time.sleep(2)\n",
    "driver.execute_script(\"arguments[0].scrollBy(0,2000);\", scroll_div)\n",
    "time.sleep(2)\n",
    "driver.execute_script(\"arguments[0].scrollBy(0,2000);\", scroll_div)\n",
    "time.sleep(2)\n",
    "driver.execute_script(\"arguments[0].scrollBy(0,2000);\", scroll_div)\n",
    "time.sleep(2)\n",
    "#여기까지 scroll\n",
    "#맨 아래까지 내려서 해당 페이지의 내용이 다 표시되게 함"
   ]
  },
  {
   "cell_type": "code",
   "execution_count": 8,
   "id": "bff47a6a-cbf7-46e1-87fb-d4d017e63ae1",
   "metadata": {},
   "outputs": [],
   "source": [
    "# 스크롤 코드"
   ]
  },
  {
   "cell_type": "code",
   "execution_count": 9,
   "id": "69c527ff-162d-49a8-bcaa-6d14c7577ec2",
   "metadata": {
    "scrolled": true,
    "tags": []
   },
   "outputs": [
    {
     "name": "stderr",
     "output_type": "stream",
     "text": [
      "C:\\Users\\Public\\Documents\\ESTsoft\\CreatorTemp/ipykernel_30412/454027521.py:6: DeprecationWarning: find_elements_by_class_name is deprecated. Please use find_elements(by=By.CLASS_NAME, value=name) instead\n",
      "  selectWeb = driver.find_elements_by_class_name(\"O9Z-o\")\n"
     ]
    }
   ],
   "source": [
    "# driver.switch_to.default_content()\n",
    "# element = driver.find_element_by_id(\"searchIframe\")\n",
    "# time.sleep(2)\n",
    "# driver.switch_to.frame(element) #프레임 이동\n",
    "# time.sleep(2)\n",
    "selectWeb = driver.find_elements_by_class_name(\"O9Z-o\")\n",
    "# selectWeb"
   ]
  },
  {
   "cell_type": "code",
   "execution_count": 10,
   "id": "6e9744a3-c5a1-43a6-a57b-5d5ab47956c8",
   "metadata": {},
   "outputs": [
    {
     "data": {
      "text/plain": [
       "50"
      ]
     },
     "execution_count": 10,
     "metadata": {},
     "output_type": "execute_result"
    }
   ],
   "source": [
    "len(selectWeb)"
   ]
  },
  {
   "cell_type": "code",
   "execution_count": 11,
   "id": "820890d3-8407-4df2-822e-fd3ef31ae6aa",
   "metadata": {},
   "outputs": [],
   "source": [
    "infoList = []"
   ]
  },
  {
   "cell_type": "code",
   "execution_count": null,
   "id": "b3c4e6f6-98a6-4bcd-b88e-1fa5fa70f9ec",
   "metadata": {},
   "outputs": [
    {
     "name": "stderr",
     "output_type": "stream",
     "text": [
      "C:\\Users\\Public\\Documents\\ESTsoft\\CreatorTemp/ipykernel_30412/1649102764.py:15: DeprecationWarning: find_element_by_* commands are deprecated. Please use find_element() instead\n",
      "  element = driver.find_element_by_id(\"entryIframe\")\n",
      "C:\\Users\\Public\\Documents\\ESTsoft\\CreatorTemp/ipykernel_30412/1649102764.py:34: DeprecationWarning: find_elements_by_class_name is deprecated. Please use find_elements(by=By.CLASS_NAME, value=name) instead\n",
      "  callNumberList = driver.find_elements_by_class_name(\"_3ZA0S\")\n",
      "C:\\Users\\Public\\Documents\\ESTsoft\\CreatorTemp/ipykernel_30412/1649102764.py:40: DeprecationWarning: find_elements_by_class_name is deprecated. Please use find_elements(by=By.CLASS_NAME, value=name) instead\n",
      "  locationList = driver.find_elements_by_class_name(\"_2yqUQ\")\n",
      "C:\\Users\\Public\\Documents\\ESTsoft\\CreatorTemp/ipykernel_30412/1649102764.py:50: DeprecationWarning: find_elements_by_class_name is deprecated. Please use find_elements(by=By.CLASS_NAME, value=name) instead\n",
      "  subInfoList = driver.find_elements_by_class_name(\"_1h3B_\")\n"
     ]
    },
    {
     "name": "stdout",
     "output_type": "stream",
     "text": [
      "True\n"
     ]
    },
    {
     "name": "stderr",
     "output_type": "stream",
     "text": [
      "C:\\Users\\Public\\Documents\\ESTsoft\\CreatorTemp/ipykernel_30412/1649102764.py:73: DeprecationWarning: find_elements_by_class_name is deprecated. Please use find_elements(by=By.CLASS_NAME, value=name) instead\n",
      "  subInfoList = driver.find_elements_by_class_name(\"_1h3B_\")\n"
     ]
    },
    {
     "name": "stdout",
     "output_type": "stream",
     "text": [
      "True\n"
     ]
    },
    {
     "name": "stderr",
     "output_type": "stream",
     "text": [
      "C:\\Users\\Public\\Documents\\ESTsoft\\CreatorTemp/ipykernel_30412/1649102764.py:82: DeprecationWarning: find_element_by_class_name is deprecated. Please use find_element(by=By.CLASS_NAME, value=name) instead\n",
      "  clickData = driver.find_element_by_class_name(\"_20Y9l\")\n",
      "C:\\Users\\Public\\Documents\\ESTsoft\\CreatorTemp/ipykernel_30412/1649102764.py:114: DeprecationWarning: find_element_by_* commands are deprecated. Please use find_element() instead\n",
      "  element = driver.find_element_by_id(\"searchIframe\")\n"
     ]
    },
    {
     "name": "stdout",
     "output_type": "stream",
     "text": [
      "True\n",
      "True\n",
      "True\n",
      "True\n",
      "True\n",
      "True\n",
      "True\n",
      "True\n",
      "True\n",
      "True\n",
      "True\n",
      "True\n",
      "True\n",
      "True\n",
      "True\n",
      "True\n",
      "True\n",
      "True\n",
      "True\n",
      "True\n",
      "True\n",
      "True\n",
      "True\n",
      "True\n",
      "True\n",
      "True\n",
      "True\n",
      "True\n",
      "True\n",
      "True\n",
      "True\n",
      "True\n",
      "True\n",
      "True\n",
      "True\n",
      "True\n",
      "True\n",
      "True\n",
      "True\n",
      "True\n",
      "True\n",
      "True\n",
      "True\n",
      "True\n",
      "True\n",
      "True\n",
      "True\n",
      "True\n",
      "True\n",
      "True\n",
      "True\n",
      "True\n",
      "True\n",
      "True\n",
      "True\n",
      "True\n",
      "True\n",
      "True\n",
      "True\n",
      "True\n",
      "True\n",
      "True\n",
      "True\n",
      "True\n",
      "True\n",
      "True\n",
      "True\n",
      "True\n",
      "True\n",
      "True\n",
      "True\n",
      "True\n",
      "True\n",
      "True\n",
      "True\n",
      "True\n",
      "True\n",
      "True\n",
      "True\n",
      "True\n",
      "True\n",
      "True\n",
      "True\n",
      "True\n",
      "True\n",
      "True\n",
      "True\n",
      "True\n",
      "True\n",
      "True\n",
      "True\n",
      "True\n"
     ]
    },
    {
     "name": "stderr",
     "output_type": "stream",
     "text": [
      "C:\\Users\\Public\\Documents\\ESTsoft\\CreatorTemp/ipykernel_30412/1649102764.py:138: DeprecationWarning: find_elements_by_class_name is deprecated. Please use find_elements(by=By.CLASS_NAME, value=name) instead\n",
      "  nextPage= driver.find_elements_by_class_name(\"_3Dl4U\")\n",
      "C:\\Users\\Public\\Documents\\ESTsoft\\CreatorTemp/ipykernel_30412/1649102764.py:146: DeprecationWarning: find_element_by_xpath is deprecated. Please use find_element(by=By.XPATH, value=xpath) instead\n",
      "  scroll_div = driver.find_element_by_xpath(\"/html/body/div[3]/div/div[2]/div[1]\")\n",
      "C:\\Users\\Public\\Documents\\ESTsoft\\CreatorTemp/ipykernel_30412/1649102764.py:161: DeprecationWarning: find_elements_by_class_name is deprecated. Please use find_elements(by=By.CLASS_NAME, value=name) instead\n",
      "  selectWeb = driver.find_elements_by_class_name(\"O9Z-o\")\n"
     ]
    },
    {
     "name": "stdout",
     "output_type": "stream",
     "text": [
      "True\n",
      "True\n"
     ]
    }
   ],
   "source": [
    "flag = False\n",
    "k = 0\n",
    "while 1==1:\n",
    "    \n",
    "    for i in range(0, len(selectWeb)):\n",
    "    # try:\n",
    "        time.sleep(2)\n",
    "        # 이쪽 페이지 있는거 포문으로 돌기\n",
    "        ##검색된 거 하나하나 들어가는 곳\n",
    "        selectWeb[i].click()\n",
    "        time.sleep(3)\n",
    "\n",
    "        driver.switch_to.default_content()  #프레임 빠져나오기\n",
    "\n",
    "        element = driver.find_element_by_id(\"entryIframe\")\n",
    "\n",
    "        driver.switch_to.frame(element) #프레임 이동\n",
    "        # 개별정보 접근시 프레임 이동\n",
    "        time.sleep(2)\n",
    "        ##현재 페이지 소스 가져오기\n",
    "        \n",
    "        html = driver.page_source\n",
    "        time.sleep(2)\n",
    "        ## BeautifulSoup로 페이지 소스 파싱\n",
    "        bs = bs4.BeautifulSoup(html, \"html.parser\")\n",
    "        time.sleep(2)\n",
    "        \n",
    "        \n",
    "        name = bs.find(attrs={\"class\":\"_3XamX\"}).text\n",
    "        \n",
    "        \n",
    "        # 전화번호\n",
    "\n",
    "        callNumberList = driver.find_elements_by_class_name(\"_3ZA0S\")\n",
    "        time.sleep(2)\n",
    "\n",
    "        restCallNumber = callNumberList[0].text\n",
    "\n",
    "        # 주소\n",
    "        locationList = driver.find_elements_by_class_name(\"_2yqUQ\")\n",
    "        time.sleep(2)\n",
    "        restLocation = locationList[0].text\n",
    "\n",
    "       \n",
    "\n",
    "        # 짜잘한것\n",
    "       \n",
    "        try:\n",
    "\n",
    "            subInfoList = driver.find_elements_by_class_name(\"_1h3B_\")\n",
    "            str(subInfoList[5].text)[0]\n",
    "\n",
    "\n",
    "            time.sleep(2)\n",
    "            for i in range(len(subInfoList)):\n",
    "                if(str(subInfoList[i].text)[0]==\"영\"):\n",
    "                    time.sleep(2)\n",
    "                    print(str(subInfoList[i].text)[0]==\"영\")\n",
    "                    time.sleep(2)\n",
    "                    subInfo = subInfoList[i+1].text\n",
    "\n",
    "        except Exception as e:\n",
    "            print(e)\n",
    "            time.sleep(2)\n",
    "            \n",
    "        \n",
    "        \n",
    "\n",
    "        \n",
    "        openHour = \"None\"\n",
    "        try:\n",
    "\n",
    "            subInfoList = driver.find_elements_by_class_name(\"_1h3B_\")\n",
    "\n",
    "\n",
    "            time.sleep(2)\n",
    "            for i in range(len(subInfoList)):\n",
    "                if(str(subInfoList[i].text)[0]==\"영\"):\n",
    "                    time.sleep(2)\n",
    "                    print(str(subInfoList[i].text)[0]==\"영\")\n",
    "\n",
    "                    clickData = driver.find_element_by_class_name(\"_20Y9l\")\n",
    "                    clickData.click()\n",
    "\n",
    "                    # 더보기 클릭으로 인해서 페이지 소스 다시 파싱\n",
    "                    html = driver.page_source\n",
    "                    ## BeautifulSoup로 페이지 소스 파싱\n",
    "                    bs = bs4.BeautifulSoup(html, \"html.parser\")\n",
    "\n",
    "                    time.sleep(2)\n",
    "                    openHour = subInfoList[i].text\n",
    "\n",
    "        except Exception as e:\n",
    "            print(e)\n",
    "            time.sleep(2)\n",
    "\n",
    "        openHour\n",
    "\n",
    "        openHourTime = openHour.split(\"\\n\")\n",
    "\n",
    "        try:\n",
    "        \n",
    "            tempList = [name, restCallNumber, restLocation, subInfo, openHourTime[4] ]\n",
    "            infoList.append(tempList)\n",
    "            \n",
    "        except:\n",
    "            \n",
    "            tempList = [name, restCallNumber, restLocation, subInfo, \"none\" ]\n",
    "            infoList.append(tempList)\n",
    "        \n",
    "        \n",
    "        driver.switch_to.default_content()  #프레임 빠져나오기\n",
    "\n",
    "        element = driver.find_element_by_id(\"searchIframe\")\n",
    "        driver.switch_to.frame(element) #프레임 이동\n",
    "        \n",
    "        \n",
    "        \n",
    "        if k >=1:\n",
    "\n",
    "            if infoList[-1] == infoList[-2]:\n",
    "                infoList.remove(infoList[-1])\n",
    "                flag = True\n",
    "                break\n",
    "            \n",
    "    if flag:\n",
    "        driver.switch_to.default_content()  #프레임 빠져나오기\n",
    "        break\n",
    "    ##다음 페이지로 넘기는 로직\n",
    "    try:\n",
    "\n",
    "        driver.switch_to.default_content()  #프레임 빠져나오기\n",
    "\n",
    "        driver.switch_to.frame(element) #프레임 이동\n",
    "        \n",
    "\n",
    "        ##다음 페이지 이동\n",
    "        nextPage= driver.find_elements_by_class_name(\"_3Dl4U\")\n",
    "        \n",
    "        nextPage[1].click()\n",
    "        time.sleep(2)\n",
    "\n",
    "\n",
    "        k=k+1\n",
    "        \n",
    "        scroll_div = driver.find_element_by_xpath(\"/html/body/div[3]/div/div[2]/div[1]\")\n",
    "        #검색 결과로 나타나는 scroll-bar 포함한 div 잡고\n",
    "        driver.execute_script(\"arguments[0].scrollBy(0,2000)\", scroll_div)\n",
    "        time.sleep(2)\n",
    "        driver.execute_script(\"arguments[0].scrollBy(0,2000);\", scroll_div)\n",
    "        time.sleep(2)\n",
    "        driver.execute_script(\"arguments[0].scrollBy(0,2000);\", scroll_div)\n",
    "        time.sleep(2)\n",
    "        driver.execute_script(\"arguments[0].scrollBy(0,2000);\", scroll_div)\n",
    "        time.sleep(2)\n",
    "        driver.execute_script(\"arguments[0].scrollBy(0,2000);\", scroll_div)\n",
    "        time.sleep(2)\n",
    "        #여기까지 scroll\n",
    "        #맨 아래까지 내려서 해당 페이지의 내용이 다 표시되게 함\n",
    "        \n",
    "        selectWeb = driver.find_elements_by_class_name(\"O9Z-o\")\n",
    "        # 50개 선택창 아이프레임 들어갔다 나오기\n",
    "        time.sleep(2)\n",
    "\n",
    "    except:\n",
    "        print(\"error\")\n",
    "        \n",
    "        \n"
   ]
  },
  {
   "cell_type": "code",
   "execution_count": 12,
   "id": "4738036a-8872-4386-9e3e-888712880568",
   "metadata": {},
   "outputs": [
    {
     "data": {
      "text/plain": [
       "17"
      ]
     },
     "execution_count": 12,
     "metadata": {},
     "output_type": "execute_result"
    }
   ],
   "source": [
    "len(infoList)"
   ]
  },
  {
   "cell_type": "code",
   "execution_count": null,
   "id": "0d27d641-9a80-409f-b307-c5e509767992",
   "metadata": {},
   "outputs": [],
   "source": [
    "--------------------------------------"
   ]
  },
  {
   "cell_type": "code",
   "execution_count": null,
   "id": "14f18ad5-8695-4814-a2df-36d931db13bd",
   "metadata": {},
   "outputs": [],
   "source": []
  }
 ],
 "metadata": {
  "kernelspec": {
   "display_name": "Python 3 (ipykernel)",
   "language": "python",
   "name": "python3"
  },
  "language_info": {
   "codemirror_mode": {
    "name": "ipython",
    "version": 3
   },
   "file_extension": ".py",
   "mimetype": "text/x-python",
   "name": "python",
   "nbconvert_exporter": "python",
   "pygments_lexer": "ipython3",
   "version": "3.9.7"
  }
 },
 "nbformat": 4,
 "nbformat_minor": 5
}
