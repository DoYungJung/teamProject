{
 "cells": [
  {
   "cell_type": "markdown",
   "id": "0a22fd4c-c57c-43ed-96dc-262c9b799372",
   "metadata": {},
   "source": [
    "### 1. 라이브러리 선언"
   ]
  },
  {
   "cell_type": "code",
   "execution_count": 1,
   "id": "55c46727-a54e-4113-820a-e0913cf2cb34",
   "metadata": {},
   "outputs": [],
   "source": [
    "import re\n",
    "import time\n",
    "import os\n",
    "from selenium import webdriver\n",
    "from selenium.webdriver.common.keys import Keys\n",
    "\n",
    "import requests\n",
    "import csv\n",
    "import urllib.request\n",
    "import urllib.parse\n",
    "import bs4\n",
    "import pandas as pd"
   ]
  },
  {
   "cell_type": "markdown",
   "id": "3871887f-3e7c-42c4-b632-0071dc8e091c",
   "metadata": {},
   "source": [
    "### 2. 데이터 불러오기"
   ]
  },
  {
   "cell_type": "markdown",
   "id": "cad0e9b3-0eba-4b28-9375-644d1be29e39",
   "metadata": {},
   "source": [
    "### 3. 사이트 호출"
   ]
  },
  {
   "cell_type": "code",
   "execution_count": 2,
   "id": "9bab1904-a3e0-4a34-891c-d070e6a0d2ab",
   "metadata": {},
   "outputs": [
    {
     "name": "stderr",
     "output_type": "stream",
     "text": [
      "C:\\Users\\SMART18\\AppData\\Local\\Temp/ipykernel_1224/3732077489.py:7: DeprecationWarning: executable_path has been deprecated, please pass in a Service object\n",
      "  driver = webdriver.Chrome(driver_loc, options=options)\n"
     ]
    },
    {
     "data": {
      "text/plain": [
       "'https://www.mangoplate.com/'"
      ]
     },
     "execution_count": 2,
     "metadata": {},
     "output_type": "execute_result"
    }
   ],
   "source": [
    "driver_loc = \"../externlib/chromedriver/chromedriver.exe\"\n",
    "\n",
    "options = webdriver.ChromeOptions()\n",
    "\n",
    "options.add_argument(\"window-size=1920x1080\")\n",
    "\n",
    "driver = webdriver.Chrome(driver_loc, options=options)\n",
    "\n",
    "baseUrl = \"https://www.mangoplate.com/\"\n",
    "\n",
    "driver.get(baseUrl)\n",
    "\n",
    "driver.current_url"
   ]
  },
  {
   "cell_type": "code",
   "execution_count": 3,
   "id": "b76e3c36-613d-47e3-8749-b1652acf53f5",
   "metadata": {},
   "outputs": [
    {
     "name": "stderr",
     "output_type": "stream",
     "text": [
      "C:\\Users\\SMART18\\AppData\\Local\\Temp/ipykernel_1224/3754975954.py:2: DeprecationWarning: find_element_by_xpath is deprecated. Please use find_element(by=By.XPATH, value=xpath) instead\n",
      "  driver.find_element_by_xpath(closePath).click()\n"
     ]
    }
   ],
   "source": [
    "closePath = '/html/body/div[14]'\n",
    "driver.find_element_by_xpath(closePath).click()"
   ]
  },
  {
   "cell_type": "code",
   "execution_count": 4,
   "id": "4fcbe5ae-0571-48fc-9483-a6a07e4be340",
   "metadata": {},
   "outputs": [],
   "source": [
    "# 검색 데이터 만들기\n",
    "\n",
    "sinsaAddress = \"강남구 신사동\""
   ]
  },
  {
   "cell_type": "code",
   "execution_count": 5,
   "id": "c4a193d8-44f3-4d4b-a0c5-2d9ca341198d",
   "metadata": {},
   "outputs": [],
   "source": [
    "# time.sleep(3)\n",
    "# closePath = '/html/body/div[14]'\n",
    "# driver.find_element_by_xpath(closePath).click()"
   ]
  },
  {
   "cell_type": "code",
   "execution_count": 6,
   "id": "17f353d8-5365-4cc3-a44f-bde7b441a896",
   "metadata": {},
   "outputs": [],
   "source": [
    "driver.switch_to.window(driver.window_handles[1])"
   ]
  },
  {
   "cell_type": "code",
   "execution_count": 7,
   "id": "2d3484be-120b-4c97-90a6-a94289a4f75f",
   "metadata": {},
   "outputs": [],
   "source": [
    "driver.close()"
   ]
  },
  {
   "cell_type": "code",
   "execution_count": 8,
   "id": "c60afa0d-fdc1-4173-88d8-cf4248faa554",
   "metadata": {},
   "outputs": [],
   "source": [
    "driver.switch_to.window(driver.window_handles[0])"
   ]
  },
  {
   "cell_type": "code",
   "execution_count": 9,
   "id": "216f3564-8979-4abb-b36d-8b4bb1f032a1",
   "metadata": {},
   "outputs": [
    {
     "name": "stderr",
     "output_type": "stream",
     "text": [
      "C:\\Users\\SMART18\\AppData\\Local\\Temp/ipykernel_1224/3505454210.py:3: DeprecationWarning: find_element_by_xpath is deprecated. Please use find_element(by=By.XPATH, value=xpath) instead\n",
      "  driver.find_element_by_xpath(searchPath).send_keys(sinsaAddress)\n"
     ]
    }
   ],
   "source": [
    "# 검색어 입력(for문 돌려야됨)\n",
    "searchPath = '//*[@id=\"main-search\"]'\n",
    "driver.find_element_by_xpath(searchPath).send_keys(sinsaAddress)"
   ]
  },
  {
   "cell_type": "code",
   "execution_count": 10,
   "id": "921d47a6-8af6-4cea-9415-6c8cb41f2136",
   "metadata": {},
   "outputs": [
    {
     "name": "stderr",
     "output_type": "stream",
     "text": [
      "C:\\Users\\SMART18\\AppData\\Local\\Temp/ipykernel_1224/2100832940.py:1: DeprecationWarning: find_element_by_xpath is deprecated. Please use find_element(by=By.XPATH, value=xpath) instead\n",
      "  driver.find_element_by_xpath(searchPath).send_keys(Keys.ENTER)\n"
     ]
    }
   ],
   "source": [
    "driver.find_element_by_xpath(searchPath).send_keys(Keys.ENTER)"
   ]
  },
  {
   "cell_type": "code",
   "execution_count": 11,
   "id": "29adec37-bb91-44d6-874a-66f6af628bb6",
   "metadata": {},
   "outputs": [],
   "source": [
    "# /html/body/main/article/div[2]/div/div/section/div[3]/ul/li[1]/div[1]/figure"
   ]
  },
  {
   "cell_type": "code",
   "execution_count": 12,
   "id": "50b2a203-4116-4de0-856c-8d624b73dfb1",
   "metadata": {
    "scrolled": true,
    "tags": []
   },
   "outputs": [],
   "source": [
    "# 한페이지당 20개 식당 리스트\n",
    "# bs.findAll(attrs={\"class\":\"restaurant-item\"})[19]"
   ]
  },
  {
   "cell_type": "code",
   "execution_count": 13,
   "id": "c9501cd3-4368-4d66-b98f-99fcb875524c",
   "metadata": {},
   "outputs": [],
   "source": [
    "# 빈 리스트 생성\n",
    "cafeName = [] # 식당이름\n",
    "foodScore = [] # 별점\n",
    "reviewCount = [] # 리뷰\n",
    "likeCount = [] # 좋아요수\n",
    "address = [] # 주소\n",
    "phoneNumber = [] # 전화번호\n",
    "foodKategorie = [] # 식당 카테고리\n",
    "parking = [] # 주차\n",
    "openHour = [] # 영업시간\n",
    "menuList = [] # 메뉴\n",
    "menuAllList = []\n",
    "reviewsList = [] # 리뷰"
   ]
  },
  {
   "cell_type": "code",
   "execution_count": 14,
   "id": "976dd63e-14cd-4014-975c-f9726b52e945",
   "metadata": {},
   "outputs": [],
   "source": [
    "# /html/body/main/article/div[2]/div/div/section/div[3]/ul/li[1]/div[2]\n",
    "# /html/body/main/article/div[2]/div/div/section/div[3]/ul/li[1]/div[2]/figure/a\n",
    "# /html/body/main/article/div[2]/div/div/section/div[3]/ul/li[2]/div[1]/figure"
   ]
  },
  {
   "cell_type": "code",
   "execution_count": 15,
   "id": "9be444aa-789f-4f3c-b5b5-6d2d8558e7bf",
   "metadata": {},
   "outputs": [],
   "source": [
    "# /html/body/main/article/div[2]/div/div/section/div[4]/p/a[1]\n",
    "# /html/body/main/article/div[2]/div/div/section/div[4]/p/a[2]"
   ]
  },
  {
   "cell_type": "code",
   "execution_count": 16,
   "id": "a6844cc9-0ac2-4da7-a634-4027d7394696",
   "metadata": {},
   "outputs": [
    {
     "name": "stderr",
     "output_type": "stream",
     "text": [
      "C:\\Users\\SMART18\\AppData\\Local\\Temp/ipykernel_1224/743202205.py:10: DeprecationWarning: find_element_by_xpath is deprecated. Please use find_element(by=By.XPATH, value=xpath) instead\n",
      "  driver.find_element_by_xpath(pageCheck).click()\n",
      "C:\\Users\\SMART18\\AppData\\Local\\Temp/ipykernel_1224/743202205.py:22: DeprecationWarning: find_element_by_xpath is deprecated. Please use find_element(by=By.XPATH, value=xpath) instead\n",
      "  driver.find_element_by_xpath(clikckInfoNum).click()\n"
     ]
    },
    {
     "ename": "WebDriverException",
     "evalue": "Message: unknown error: cannot determine loading status\nfrom unknown error: unexpected command response\n  (Session info: chrome=103.0.5060.66)\nStacktrace:\nBacktrace:\n\tOrdinal0 [0x010A6463+2188387]\n\tOrdinal0 [0x0103E461+1762401]\n\tOrdinal0 [0x00F53D78+802168]\n\tOrdinal0 [0x00F47210+750096]\n\tOrdinal0 [0x00F4675A+747354]\n\tOrdinal0 [0x00F45D3F+744767]\n\tOrdinal0 [0x00F44C28+740392]\n\tOrdinal0 [0x00F45228+741928]\n\tOrdinal0 [0x00F4F153+782675]\n\tOrdinal0 [0x00F59FBB+827323]\n\tOrdinal0 [0x00F5D310+840464]\n\tOrdinal0 [0x00F454F6+742646]\n\tOrdinal0 [0x00F59BF3+826355]\n\tOrdinal0 [0x00FACF6D+1167213]\n\tOrdinal0 [0x00F9C5F6+1099254]\n\tOrdinal0 [0x00F76BE0+945120]\n\tOrdinal0 [0x00F77AD6+948950]\n\tGetHandleVerifier [0x013471F2+2712546]\n\tGetHandleVerifier [0x0133886D+2652765]\n\tGetHandleVerifier [0x0113002A+520730]\n\tGetHandleVerifier [0x0112EE06+516086]\n\tOrdinal0 [0x0104468B+1787531]\n\tOrdinal0 [0x01048E88+1805960]\n\tOrdinal0 [0x01048F75+1806197]\n\tOrdinal0 [0x01051DF1+1842673]\n\tBaseThreadInitThunk [0x761CFA29+25]\n\tRtlGetAppContainerNamedObjectPath [0x77E27A9E+286]\n\tRtlGetAppContainerNamedObjectPath [0x77E27A6E+238]\n",
     "output_type": "error",
     "traceback": [
      "\u001b[1;31m---------------------------------------------------------------------------\u001b[0m",
      "\u001b[1;31mWebDriverException\u001b[0m                        Traceback (most recent call last)",
      "\u001b[1;32m~\\AppData\\Local\\Temp/ipykernel_1224/743202205.py\u001b[0m in \u001b[0;36m<module>\u001b[1;34m\u001b[0m\n\u001b[0;32m     20\u001b[0m             \u001b[0mclikckInfoNum\u001b[0m \u001b[1;33m=\u001b[0m \u001b[0mclickRow\u001b[0m\u001b[1;33m.\u001b[0m\u001b[0mreplace\u001b[0m\u001b[1;33m(\u001b[0m\u001b[1;34m'col'\u001b[0m\u001b[1;33m,\u001b[0m\u001b[0mstr\u001b[0m\u001b[1;33m(\u001b[0m\u001b[0mj\u001b[0m\u001b[1;33m)\u001b[0m\u001b[1;33m)\u001b[0m\u001b[1;33m\u001b[0m\u001b[1;33m\u001b[0m\u001b[0m\n\u001b[0;32m     21\u001b[0m             \u001b[0mclikckInfoNum\u001b[0m\u001b[1;33m\u001b[0m\u001b[1;33m\u001b[0m\u001b[0m\n\u001b[1;32m---> 22\u001b[1;33m             \u001b[0mdriver\u001b[0m\u001b[1;33m.\u001b[0m\u001b[0mfind_element_by_xpath\u001b[0m\u001b[1;33m(\u001b[0m\u001b[0mclikckInfoNum\u001b[0m\u001b[1;33m)\u001b[0m\u001b[1;33m.\u001b[0m\u001b[0mclick\u001b[0m\u001b[1;33m(\u001b[0m\u001b[1;33m)\u001b[0m\u001b[1;33m\u001b[0m\u001b[1;33m\u001b[0m\u001b[0m\n\u001b[0m\u001b[0;32m     23\u001b[0m \u001b[1;33m\u001b[0m\u001b[0m\n\u001b[0;32m     24\u001b[0m             \u001b[0mtime\u001b[0m\u001b[1;33m.\u001b[0m\u001b[0msleep\u001b[0m\u001b[1;33m(\u001b[0m\u001b[1;36m2\u001b[0m\u001b[1;33m)\u001b[0m\u001b[1;33m\u001b[0m\u001b[1;33m\u001b[0m\u001b[0m\n",
      "\u001b[1;32m~\\Anaconda3\\lib\\site-packages\\selenium\\webdriver\\remote\\webelement.py\u001b[0m in \u001b[0;36mclick\u001b[1;34m(self)\u001b[0m\n\u001b[0;32m     79\u001b[0m     \u001b[1;32mdef\u001b[0m \u001b[0mclick\u001b[0m\u001b[1;33m(\u001b[0m\u001b[0mself\u001b[0m\u001b[1;33m)\u001b[0m \u001b[1;33m->\u001b[0m \u001b[1;32mNone\u001b[0m\u001b[1;33m:\u001b[0m\u001b[1;33m\u001b[0m\u001b[1;33m\u001b[0m\u001b[0m\n\u001b[0;32m     80\u001b[0m         \u001b[1;34m\"\"\"Clicks the element.\"\"\"\u001b[0m\u001b[1;33m\u001b[0m\u001b[1;33m\u001b[0m\u001b[0m\n\u001b[1;32m---> 81\u001b[1;33m         \u001b[0mself\u001b[0m\u001b[1;33m.\u001b[0m\u001b[0m_execute\u001b[0m\u001b[1;33m(\u001b[0m\u001b[0mCommand\u001b[0m\u001b[1;33m.\u001b[0m\u001b[0mCLICK_ELEMENT\u001b[0m\u001b[1;33m)\u001b[0m\u001b[1;33m\u001b[0m\u001b[1;33m\u001b[0m\u001b[0m\n\u001b[0m\u001b[0;32m     82\u001b[0m \u001b[1;33m\u001b[0m\u001b[0m\n\u001b[0;32m     83\u001b[0m     \u001b[1;32mdef\u001b[0m \u001b[0msubmit\u001b[0m\u001b[1;33m(\u001b[0m\u001b[0mself\u001b[0m\u001b[1;33m)\u001b[0m\u001b[1;33m:\u001b[0m\u001b[1;33m\u001b[0m\u001b[1;33m\u001b[0m\u001b[0m\n",
      "\u001b[1;32m~\\Anaconda3\\lib\\site-packages\\selenium\\webdriver\\remote\\webelement.py\u001b[0m in \u001b[0;36m_execute\u001b[1;34m(self, command, params)\u001b[0m\n\u001b[0;32m    708\u001b[0m             \u001b[0mparams\u001b[0m \u001b[1;33m=\u001b[0m \u001b[1;33m{\u001b[0m\u001b[1;33m}\u001b[0m\u001b[1;33m\u001b[0m\u001b[1;33m\u001b[0m\u001b[0m\n\u001b[0;32m    709\u001b[0m         \u001b[0mparams\u001b[0m\u001b[1;33m[\u001b[0m\u001b[1;34m'id'\u001b[0m\u001b[1;33m]\u001b[0m \u001b[1;33m=\u001b[0m \u001b[0mself\u001b[0m\u001b[1;33m.\u001b[0m\u001b[0m_id\u001b[0m\u001b[1;33m\u001b[0m\u001b[1;33m\u001b[0m\u001b[0m\n\u001b[1;32m--> 710\u001b[1;33m         \u001b[1;32mreturn\u001b[0m \u001b[0mself\u001b[0m\u001b[1;33m.\u001b[0m\u001b[0m_parent\u001b[0m\u001b[1;33m.\u001b[0m\u001b[0mexecute\u001b[0m\u001b[1;33m(\u001b[0m\u001b[0mcommand\u001b[0m\u001b[1;33m,\u001b[0m \u001b[0mparams\u001b[0m\u001b[1;33m)\u001b[0m\u001b[1;33m\u001b[0m\u001b[1;33m\u001b[0m\u001b[0m\n\u001b[0m\u001b[0;32m    711\u001b[0m \u001b[1;33m\u001b[0m\u001b[0m\n\u001b[0;32m    712\u001b[0m     \u001b[1;32mdef\u001b[0m \u001b[0mfind_element\u001b[0m\u001b[1;33m(\u001b[0m\u001b[0mself\u001b[0m\u001b[1;33m,\u001b[0m \u001b[0mby\u001b[0m\u001b[1;33m=\u001b[0m\u001b[0mBy\u001b[0m\u001b[1;33m.\u001b[0m\u001b[0mID\u001b[0m\u001b[1;33m,\u001b[0m \u001b[0mvalue\u001b[0m\u001b[1;33m=\u001b[0m\u001b[1;32mNone\u001b[0m\u001b[1;33m)\u001b[0m\u001b[1;33m:\u001b[0m\u001b[1;33m\u001b[0m\u001b[1;33m\u001b[0m\u001b[0m\n",
      "\u001b[1;32m~\\Anaconda3\\lib\\site-packages\\selenium\\webdriver\\remote\\webdriver.py\u001b[0m in \u001b[0;36mexecute\u001b[1;34m(self, driver_command, params)\u001b[0m\n\u001b[0;32m    423\u001b[0m         \u001b[0mresponse\u001b[0m \u001b[1;33m=\u001b[0m \u001b[0mself\u001b[0m\u001b[1;33m.\u001b[0m\u001b[0mcommand_executor\u001b[0m\u001b[1;33m.\u001b[0m\u001b[0mexecute\u001b[0m\u001b[1;33m(\u001b[0m\u001b[0mdriver_command\u001b[0m\u001b[1;33m,\u001b[0m \u001b[0mparams\u001b[0m\u001b[1;33m)\u001b[0m\u001b[1;33m\u001b[0m\u001b[1;33m\u001b[0m\u001b[0m\n\u001b[0;32m    424\u001b[0m         \u001b[1;32mif\u001b[0m \u001b[0mresponse\u001b[0m\u001b[1;33m:\u001b[0m\u001b[1;33m\u001b[0m\u001b[1;33m\u001b[0m\u001b[0m\n\u001b[1;32m--> 425\u001b[1;33m             \u001b[0mself\u001b[0m\u001b[1;33m.\u001b[0m\u001b[0merror_handler\u001b[0m\u001b[1;33m.\u001b[0m\u001b[0mcheck_response\u001b[0m\u001b[1;33m(\u001b[0m\u001b[0mresponse\u001b[0m\u001b[1;33m)\u001b[0m\u001b[1;33m\u001b[0m\u001b[1;33m\u001b[0m\u001b[0m\n\u001b[0m\u001b[0;32m    426\u001b[0m             response['value'] = self._unwrap_value(\n\u001b[0;32m    427\u001b[0m                 response.get('value', None))\n",
      "\u001b[1;32m~\\Anaconda3\\lib\\site-packages\\selenium\\webdriver\\remote\\errorhandler.py\u001b[0m in \u001b[0;36mcheck_response\u001b[1;34m(self, response)\u001b[0m\n\u001b[0;32m    245\u001b[0m                 \u001b[0malert_text\u001b[0m \u001b[1;33m=\u001b[0m \u001b[0mvalue\u001b[0m\u001b[1;33m[\u001b[0m\u001b[1;34m'alert'\u001b[0m\u001b[1;33m]\u001b[0m\u001b[1;33m.\u001b[0m\u001b[0mget\u001b[0m\u001b[1;33m(\u001b[0m\u001b[1;34m'text'\u001b[0m\u001b[1;33m)\u001b[0m\u001b[1;33m\u001b[0m\u001b[1;33m\u001b[0m\u001b[0m\n\u001b[0;32m    246\u001b[0m             \u001b[1;32mraise\u001b[0m \u001b[0mexception_class\u001b[0m\u001b[1;33m(\u001b[0m\u001b[0mmessage\u001b[0m\u001b[1;33m,\u001b[0m \u001b[0mscreen\u001b[0m\u001b[1;33m,\u001b[0m \u001b[0mstacktrace\u001b[0m\u001b[1;33m,\u001b[0m \u001b[0malert_text\u001b[0m\u001b[1;33m)\u001b[0m  \u001b[1;31m# type: ignore[call-arg]  # mypy is not smart enough here\u001b[0m\u001b[1;33m\u001b[0m\u001b[1;33m\u001b[0m\u001b[0m\n\u001b[1;32m--> 247\u001b[1;33m         \u001b[1;32mraise\u001b[0m \u001b[0mexception_class\u001b[0m\u001b[1;33m(\u001b[0m\u001b[0mmessage\u001b[0m\u001b[1;33m,\u001b[0m \u001b[0mscreen\u001b[0m\u001b[1;33m,\u001b[0m \u001b[0mstacktrace\u001b[0m\u001b[1;33m)\u001b[0m\u001b[1;33m\u001b[0m\u001b[1;33m\u001b[0m\u001b[0m\n\u001b[0m\u001b[0;32m    248\u001b[0m \u001b[1;33m\u001b[0m\u001b[0m\n\u001b[0;32m    249\u001b[0m     \u001b[1;32mdef\u001b[0m \u001b[0m_value_or_default\u001b[0m\u001b[1;33m(\u001b[0m\u001b[0mself\u001b[0m\u001b[1;33m,\u001b[0m \u001b[0mobj\u001b[0m\u001b[1;33m:\u001b[0m \u001b[0mMapping\u001b[0m\u001b[1;33m[\u001b[0m\u001b[0m_KT\u001b[0m\u001b[1;33m,\u001b[0m \u001b[0m_VT\u001b[0m\u001b[1;33m]\u001b[0m\u001b[1;33m,\u001b[0m \u001b[0mkey\u001b[0m\u001b[1;33m:\u001b[0m \u001b[0m_KT\u001b[0m\u001b[1;33m,\u001b[0m \u001b[0mdefault\u001b[0m\u001b[1;33m:\u001b[0m \u001b[0m_VT\u001b[0m\u001b[1;33m)\u001b[0m \u001b[1;33m->\u001b[0m \u001b[0m_VT\u001b[0m\u001b[1;33m:\u001b[0m\u001b[1;33m\u001b[0m\u001b[1;33m\u001b[0m\u001b[0m\n",
      "\u001b[1;31mWebDriverException\u001b[0m: Message: unknown error: cannot determine loading status\nfrom unknown error: unexpected command response\n  (Session info: chrome=103.0.5060.66)\nStacktrace:\nBacktrace:\n\tOrdinal0 [0x010A6463+2188387]\n\tOrdinal0 [0x0103E461+1762401]\n\tOrdinal0 [0x00F53D78+802168]\n\tOrdinal0 [0x00F47210+750096]\n\tOrdinal0 [0x00F4675A+747354]\n\tOrdinal0 [0x00F45D3F+744767]\n\tOrdinal0 [0x00F44C28+740392]\n\tOrdinal0 [0x00F45228+741928]\n\tOrdinal0 [0x00F4F153+782675]\n\tOrdinal0 [0x00F59FBB+827323]\n\tOrdinal0 [0x00F5D310+840464]\n\tOrdinal0 [0x00F454F6+742646]\n\tOrdinal0 [0x00F59BF3+826355]\n\tOrdinal0 [0x00FACF6D+1167213]\n\tOrdinal0 [0x00F9C5F6+1099254]\n\tOrdinal0 [0x00F76BE0+945120]\n\tOrdinal0 [0x00F77AD6+948950]\n\tGetHandleVerifier [0x013471F2+2712546]\n\tGetHandleVerifier [0x0133886D+2652765]\n\tGetHandleVerifier [0x0113002A+520730]\n\tGetHandleVerifier [0x0112EE06+516086]\n\tOrdinal0 [0x0104468B+1787531]\n\tOrdinal0 [0x01048E88+1805960]\n\tOrdinal0 [0x01048F75+1806197]\n\tOrdinal0 [0x01051DF1+1842673]\n\tBaseThreadInitThunk [0x761CFA29+25]\n\tRtlGetAppContainerNamedObjectPath [0x77E27A9E+286]\n\tRtlGetAppContainerNamedObjectPath [0x77E27A6E+238]\n"
     ]
    }
   ],
   "source": [
    "for l in range(1,11):\n",
    "    html = driver.page_source\n",
    "    ## BeautifulSoup로 페이지 소스 파싱\n",
    "    bs = bs4.BeautifulSoup(html, \"html.parser\")\n",
    "    \n",
    "    time.sleep(3)\n",
    "    \n",
    "    pageNumber = '/html/body/main/article/div[2]/div/div/section/div[4]/p/a[pageNum]'\n",
    "    pageCheck = pageNumber.replace('pageNum',str(l))\n",
    "    driver.find_element_by_xpath(pageCheck).click()\n",
    "    \n",
    "    for k in range(1,11) : ### test 중 11 까지 다시 변경하기\n",
    "        # 식당 선택 페이지 이동\n",
    "        time.sleep(3)\n",
    "        cafeClick = '/html/body/main/article/div[2]/div/div/section/div[3]/ul/li[row]/div[col]/figure/a'\n",
    "        clickRow = cafeClick.replace('row',str(k))\n",
    "\n",
    "        for j in range(1,3):\n",
    "\n",
    "            clikckInfoNum = clickRow.replace('col',str(j))\n",
    "            clikckInfoNum\n",
    "            driver.find_element_by_xpath(clikckInfoNum).click()\n",
    "\n",
    "            time.sleep(2)\n",
    "\n",
    "            html = driver.page_source\n",
    "            html\n",
    "\n",
    "            ## BeautifulSoup로 페이지 소스 파싱\n",
    "            bs = bs4.BeautifulSoup(html, \"html.parser\")\n",
    "\n",
    "            bs\n",
    "            time.sleep(2)\n",
    "            try: \n",
    "                try :\n",
    "                # 식당이름\n",
    "                    cafeCheck = bs.find(attrs={\"class\":\"restaurant_name\"} ).text\n",
    "                    cafeName.append(cafeCheck)\n",
    "\n",
    "                except :\n",
    "                    cafeName.append(\"none\")\n",
    "\n",
    "\n",
    "                try :            \n",
    "                # 별점\n",
    "                    foodScoreCheck = bs.find(attrs={\"class\":\"rate-point\"} ).text.replace(\"\\n\",\"\")\n",
    "                    foodScoreCheck\n",
    "\n",
    "                    foodScore.append(foodScoreCheck)\n",
    "\n",
    "\n",
    "                except:\n",
    "                    foodScore.append(\"none\")\n",
    "\n",
    "                try:\n",
    "                    # 리뷰수\n",
    "                    reviewCheck = bs.find(attrs={\"class\":\"cnt review\"} ).text\n",
    "                    reviewCount.append(reviewCheck)\n",
    "\n",
    "\n",
    "                except:\n",
    "\n",
    "                    reviewCount.append(\"none\")\n",
    "\n",
    "\n",
    "\n",
    "                try:\n",
    "                    # 좋아요 수\n",
    "                    likeCheck = bs.find(attrs={\"class\":\"cnt favorite\"} ).text\n",
    "                    likeCount.append(likeCheck)\n",
    "                    likeCount\n",
    "\n",
    "\n",
    "                except:\n",
    "                    likeCount.append(\"none\")\n",
    "\n",
    "\n",
    "\n",
    "                try:\n",
    "                    # 주소\n",
    "                    Info = bs.find(attrs={\"class\":\"info\"}).text\n",
    "\n",
    "                    Info.split(\"\\n\")\n",
    "\n",
    "                    Info.split(\"\\n\").index(\"주소\")\n",
    "\n",
    "                    addressCheck = Info.split(\"\\n\")[Info.split(\"\\n\").index(\"주소\")+1]\n",
    "                    addressCheck\n",
    "\n",
    "                    address.append(addressCheck)\n",
    "\n",
    "                    address\n",
    "\n",
    "\n",
    "                except:\n",
    "                    address.append(\"none\")\n",
    "\n",
    "                try:\n",
    "                    # 전화번호\n",
    "                    phoneCheck = Info.split(\"\\n\")[Info.split(\"\\n\").index(\"전화번호\")+1]\n",
    "                    phoneCheck\n",
    "\n",
    "                    phoneNumber.append(phoneCheck)\n",
    "\n",
    "                    phoneNumber\n",
    "\n",
    "\n",
    "                except:\n",
    "                    phoneNumber.append(\"none\")\n",
    "\n",
    "\n",
    "\n",
    "\n",
    "\n",
    "                try:\n",
    "                    # 식당 카테고리\n",
    "                    Info.split(\"\\n\")[Info.split(\"\\n\").index(\"음식 종류\")+2]\n",
    "\n",
    "                    foodCheck = Info.split(\"\\n\")[Info.split(\"\\n\").index(\"음식 종류\")+2]\n",
    "                    foodKategorie.append(foodCheck)\n",
    "\n",
    "\n",
    "                except:\n",
    "                    foodKategorie.append(\"\")\n",
    "\n",
    "\n",
    "\n",
    "                try:\n",
    "                    # 주차\n",
    "                    parkCheck = Info.split(\"\\n\")[Info.split(\"\\n\").index(\"주차\")+1]\n",
    "                    parking.append(parkCheck)\n",
    "\n",
    "                except:\n",
    "                    parking.append(\"none\")\n",
    "\n",
    "\n",
    "\n",
    "\n",
    "                try:\n",
    "                    # 영업시간 (이거 확인 다 해봐야 됨)\n",
    "                    openCheck = Info.split(\"\\n\")[Info.split(\"\\n\").index(\"영업시간\")+1]\n",
    "                    openHour.append(openCheck)\n",
    "\n",
    "\n",
    "                except:\n",
    "                    openHour.append(\"none\")\n",
    "\n",
    "\n",
    "\n",
    "\n",
    "                try:\n",
    "                    # 메뉴\n",
    "                    menuAll = \"\"\n",
    "                    # 메뉴 5개\n",
    "                    for i in range(2,12):\n",
    "                        menuCheck = Info.split(\"\\n\")[Info.split(\"\\n\").index(\"메뉴\")+(2*i)] + \"_\" + Info.split(\"\\n\")[Info.split(\"\\n\").index(\"메뉴\")+(2*i)+1] + \"|\"\n",
    "                        menuList.append(menuCheck)\n",
    "                    menuList\n",
    "\n",
    "                    len(menuList)\n",
    "\n",
    "                    menuList.index(\"_|\")\n",
    "\n",
    "                    for i in range(0,len(menuList)):\n",
    "                        if (\"_|\" in menuList) == True :\n",
    "                            menuList.remove(\"_|\")\n",
    "                        else :\n",
    "                            pass\n",
    "\n",
    "\n",
    "                    for i in range(0,len(menuList)):\n",
    "                        menuAll += menuList[i]\n",
    "                    menuAllList.append(menuAll)\n",
    "                    menuAllList\n",
    "\n",
    "                except:\n",
    "\n",
    "                    menuAllList.append(\"none\")\n",
    "\n",
    "\n",
    "\n",
    "\n",
    "\n",
    "                try:\n",
    "                    # 리뷰 3개\n",
    "\n",
    "                    reviewCheck = bs.findAll(attrs={\"class\":\"RestaurantReviewItem__ReviewText\"} )\n",
    "                    reviewCheck[0].text.split(\"\\n\")[1]\n",
    "\n",
    "                    reviews = \"\"\n",
    "                    for i in range(0,3):\n",
    "                        reviews += reviewCheck[i].text.split(\"\\n\")[1] + \"|\"\n",
    "                    reviewsList.append(reviews)\n",
    "\n",
    "                    # 페이지 뒤로가기\n",
    "                    time.sleep(2)\n",
    "                    driver.back()\n",
    "                except:\n",
    "                    reviewsList.append(\"none\")\n",
    "\n",
    "                    # 페이지 뒤로가기\n",
    "                    time.sleep(2)\n",
    "                    driver.back()\n",
    "            except:\n",
    "                pass\n",
    "\n",
    "# print(cafeName)\n",
    "# # print(foodScore)\n",
    "# # print(reviewCount)\n",
    "# # print(likeCount)\n",
    "# # print(address)\n",
    "# # print(phoneNumber)\n",
    "# # print(foodKategorie)\n",
    "# # print(parking)\n",
    "# print(openHour)\n",
    "# print(menuAllList)\n",
    "# # print(reviewsList)"
   ]
  },
  {
   "cell_type": "code",
   "execution_count": null,
   "id": "7babcf04-cd23-4840-9ede-5d8e80c4f163",
   "metadata": {
    "scrolled": true,
    "tags": []
   },
   "outputs": [],
   "source": [
    "print(cafeName)\n",
    "print(foodScore)\n",
    "print(reviewCount)\n",
    "print(likeCount)\n",
    "print(address)\n",
    "print(phoneNumber)\n",
    "print(foodKategorie)\n",
    "print(parking)\n",
    "print(openHour)\n",
    "print(menuAllList)\n",
    "print(reviewsList)"
   ]
  },
  {
   "cell_type": "code",
   "execution_count": null,
   "id": "e165ebdc-94cf-48fc-b9d2-6eb287e1b85a",
   "metadata": {},
   "outputs": [],
   "source": [
    "cafeNameDf = pd.DataFrame(cafeName, columns=[\"가게명\"])\n",
    "foodScoreDf = pd.DataFrame(foodScore, columns=[\"별점\"])\n",
    "reviewCountDf = pd.DataFrame(reviewCount, columns=[\"리뷰수\"])\n",
    "likeCountDf = pd.DataFrame(likeCount, columns=[\"좋아요수\"])\n",
    "addressDf = pd.DataFrame(address, columns=[\"주소\"])\n",
    "phoneNumberDf = pd.DataFrame(phoneNumber, columns=[\"전화번호\"])\n",
    "foodKategorieDf = pd.DataFrame(foodKategorie, columns=[\"카테고리\"])\n",
    "parkingDf = pd.DataFrame(parking, columns=[\"주차\"])\n",
    "openHourDf = pd.DataFrame(openHour, columns=[\"영업시간\"])\n",
    "menuAllListDf = pd.DataFrame(menuAllList, columns=[\"메뉴\"])\n",
    "reviewsListDf = pd.DataFrame(reviewsList, columns=[\"리뷰\"])"
   ]
  },
  {
   "cell_type": "code",
   "execution_count": null,
   "id": "2804e150-9513-4ab9-ac12-3cea7e91a771",
   "metadata": {},
   "outputs": [],
   "source": [
    "result = pd.concat([cafeNameDf,foodScoreDf,reviewCountDf,likeCountDf,addressDf,phoneNumberDf,foodKategorieDf,parkingDf,openHourDf,menuAllListDf,reviewsListDf],axis=1)"
   ]
  },
  {
   "cell_type": "code",
   "execution_count": null,
   "id": "5c30ab69-ee8a-4bba-a466-ecf16dd3925a",
   "metadata": {},
   "outputs": [],
   "source": [
    "fileName = '../dataset/manggoplate.csv'\n",
    "result.to_csv(fileName, index=False, encoding=\"utf-8-sig\")"
   ]
  },
  {
   "cell_type": "code",
   "execution_count": null,
   "id": "efcacf88-96cd-469a-867e-2d5bf9fcb35a",
   "metadata": {},
   "outputs": [],
   "source": []
  },
  {
   "cell_type": "code",
   "execution_count": null,
   "id": "d6f3c5a6-a286-426d-b610-23cde5aed4a5",
   "metadata": {},
   "outputs": [],
   "source": []
  },
  {
   "cell_type": "code",
   "execution_count": null,
   "id": "63806627-cf3b-415d-88f9-a93c60b49430",
   "metadata": {},
   "outputs": [],
   "source": []
  },
  {
   "cell_type": "code",
   "execution_count": null,
   "id": "e1dbe977-2483-4997-b0e5-ed670c3de372",
   "metadata": {},
   "outputs": [],
   "source": []
  },
  {
   "cell_type": "code",
   "execution_count": null,
   "id": "99c31798-82a5-4757-a023-8a112e965e47",
   "metadata": {},
   "outputs": [],
   "source": []
  },
  {
   "cell_type": "code",
   "execution_count": null,
   "id": "2d602a1b-8ce7-4222-b851-2da5cb891ad5",
   "metadata": {},
   "outputs": [],
   "source": []
  }
 ],
 "metadata": {
  "kernelspec": {
   "display_name": "Python 3 (ipykernel)",
   "language": "python",
   "name": "python3"
  },
  "language_info": {
   "codemirror_mode": {
    "name": "ipython",
    "version": 3
   },
   "file_extension": ".py",
   "mimetype": "text/x-python",
   "name": "python",
   "nbconvert_exporter": "python",
   "pygments_lexer": "ipython3",
   "version": "3.9.7"
  }
 },
 "nbformat": 4,
 "nbformat_minor": 5
}
