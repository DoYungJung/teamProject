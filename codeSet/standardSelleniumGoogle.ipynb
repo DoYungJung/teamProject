{
 "cells": [
  {
   "cell_type": "code",
   "execution_count": 2,
   "id": "910f2b35-3e65-427f-8639-5b258b4bcbee",
   "metadata": {},
   "outputs": [
    {
     "name": "stderr",
     "output_type": "stream",
     "text": [
      "C:\\Users\\SMART23\\AppData\\Local\\Temp/ipykernel_16412/36337991.py:20: DeprecationWarning: executable_path has been deprecated, please pass in a Service object\n",
      "  driver =webdriver.Chrome(driver_loc , options=options)\n"
     ]
    }
   ],
   "source": [
    "#라이브러리 선언\n",
    "from selenium import webdriver\n",
    "#드라이버 위치 설정\n",
    "driver_loc = \"../externlib/chromedriver/chromedriver.exe\"\n",
    "#드라이버 옵션 설정\n",
    "options = webdriver.ChromeOptions()\n",
    "# options.add_argument(\"window-size=1920x1080\")\n",
    "options.add_argument(\"--start-maximized\")\n",
    "#헤드리스 설정 시 리눅스 같이 웹화면 없는경우에도 웹페이지 실행가능함\n",
    "#options.add_argument ('headless')\n",
    "#options.add_argument (\"disable gpu\")\n",
    "#웹 드라이버 정의\n",
    "\n",
    "import time\n",
    "import pandas as pd\n",
    "import bs4\n",
    "import requests\n",
    "from bs4 import BeautifulSoup \n",
    "\n",
    "driver =webdriver.Chrome(driver_loc , options=options)\n",
    "# #웹페이지 파싱 될때까지 최대 3 초 기다림\n",
    "# driver.implicitly_wait\n",
    "# 웹페이지 객체 생성"
   ]
  },
  {
   "cell_type": "code",
   "execution_count": 3,
   "id": "a383e076-ac28-4741-b8e7-eb04e50c9fa5",
   "metadata": {},
   "outputs": [],
   "source": [
    "# import pyperclip\n",
    "\n",
    "baseUrl = \"https://www.google.com\"\n",
    "driver.get(baseUrl)\n",
    "time.sleep(2)\n",
    "# url을 설정하여 객체의 url변경"
   ]
  },
  {
   "cell_type": "code",
   "execution_count": 4,
   "id": "bf8b290d-f10e-4d03-891e-c3d955cfccd3",
   "metadata": {},
   "outputs": [],
   "source": [
    "#셀레니움 에서 원하는 기능선택후 우클릭 검사 -> copy -> copy full X path?"
   ]
  },
  {
   "cell_type": "code",
   "execution_count": 5,
   "id": "de1d9505-fe41-47ed-b54a-8ca8c4448498",
   "metadata": {},
   "outputs": [
    {
     "name": "stderr",
     "output_type": "stream",
     "text": [
      "C:\\Users\\SMART23\\AppData\\Local\\Temp/ipykernel_16412/353426873.py:3: DeprecationWarning: find_element_by_xpath is deprecated. Please use find_element(by=By.XPATH, value=xpath) instead\n",
      "  driver.find_element_by_xpath(googleSearchInput).send_keys(inputKey)\n"
     ]
    }
   ],
   "source": [
    "googleSearchInput = \"/html/body/div[1]/div[3]/form/div[1]/div[1]/div[1]/div/div[2]/input\"\n",
    "inputKey = \"신사동 에디버거\"\n",
    "driver.find_element_by_xpath(googleSearchInput).send_keys(inputKey)\n",
    "\n",
    "# 검색창에 inputKey 를 입력"
   ]
  },
  {
   "cell_type": "code",
   "execution_count": 7,
   "id": "e1f0bbf6-8891-498a-8dd4-fb97813f6755",
   "metadata": {
    "tags": []
   },
   "outputs": [
    {
     "name": "stderr",
     "output_type": "stream",
     "text": [
      "C:\\Users\\SMART23\\AppData\\Local\\Temp/ipykernel_16412/1730626622.py:2: DeprecationWarning: find_element_by_xpath is deprecated. Please use find_element(by=By.XPATH, value=xpath) instead\n",
      "  driver.find_element_by_xpath(btnXpath).click()\n"
     ]
    }
   ],
   "source": [
    "btnXpath = \"/html/body/div[1]/div[3]/form/div[1]/div[1]/div[3]/center/input[1]\"\n",
    "driver.find_element_by_xpath(btnXpath).click()\n",
    "\n",
    "# 입력한 후 google검색 클릭"
   ]
  },
  {
   "cell_type": "code",
   "execution_count": 8,
   "id": "7674a3c2-1f91-4902-b9ac-49e12a3d3159",
   "metadata": {},
   "outputs": [
    {
     "name": "stderr",
     "output_type": "stream",
     "text": [
      "C:\\Users\\SMART23\\AppData\\Local\\Temp/ipykernel_16412/3506725516.py:2: DeprecationWarning: find_element_by_xpath is deprecated. Please use find_element(by=By.XPATH, value=xpath) instead\n",
      "  driver.find_element_by_xpath(mapXpath).click()\n",
      "C:\\Users\\SMART23\\AppData\\Local\\Temp/ipykernel_16412/3506725516.py:6: DeprecationWarning: find_element_by_xpath is deprecated. Please use find_element(by=By.XPATH, value=xpath) instead\n",
      "  driver.find_element_by_xpath(firstSelectPath).click()\n"
     ]
    }
   ],
   "source": [
    "mapXpath = \"/html/body/div[7]/div/div[4]/div/div[1]/div/div[1]/div/div[2]/a\"\n",
    "driver.find_element_by_xpath(mapXpath).click()\n",
    "time.sleep(1)\n",
    "\n",
    "firstSelectPath = \"/html/body/div[3]/div[9]/div[9]/div/div/div[1]/div[2]/div/div[1]/div/div/div[2]/div[1]/div[1]/div/a\"\n",
    "driver.find_element_by_xpath(firstSelectPath).click()\n",
    "time.sleep(1)\n",
    "# google지도로 이동하여 첫번째 정보 클릭"
   ]
  },
  {
   "cell_type": "code",
   "execution_count": 9,
   "id": "55ca7eb9-ca6f-489a-afc3-b2a791f27887",
   "metadata": {},
   "outputs": [],
   "source": [
    "html = driver.page_source\n",
    "bs = bs4.BeautifulSoup(html, \"html.parser\")\n",
    "\n",
    "# 현재 페이지 소스 긁어오기\n",
    "time.sleep(3)"
   ]
  },
  {
   "cell_type": "code",
   "execution_count": 10,
   "id": "4f01a077-07dc-4c21-b266-45dad31852d2",
   "metadata": {},
   "outputs": [],
   "source": [
    "pageSource = bs.find(name = \"div\", attrs={\"class\":\"tAiQdd\"})\n",
    "\n",
    "tmpPageSource = pageSource.text\n",
    "tmpPageSourceSplit = tmpPageSource.split(\" \")\n",
    "restuarantsTitleList = []\n",
    "\n",
    "for i in range(len(tmpPageSourceSplit)):\n",
    "    if(tmpPageSourceSplit[i] != ''):\n",
    "        restuarantsTitleList.append(tmpPageSourceSplit[i])\n",
    "\n",
    "restuarantsTitleList\n",
    "# 제목 및 별점 리뷰 갯수\n",
    "\n",
    "restauantsName = restuarantsTitleList[0]\n",
    "score = restuarantsTitleList[1]\n",
    "amountOppinion = restuarantsTitleList[2]"
   ]
  },
  {
   "cell_type": "code",
   "execution_count": 11,
   "id": "082fac6d-fa57-4625-b899-d9e6da9fb013",
   "metadata": {},
   "outputs": [
    {
     "data": {
      "text/plain": [
       "'        매장 내 식사     테이크아웃      '"
      ]
     },
     "execution_count": 11,
     "metadata": {},
     "output_type": "execute_result"
    }
   ],
   "source": [
    "divInfoTarget = bs.find(name =\"div\", attrs={\"class\":\"WeS02d fontBodyMedium\"})\n",
    "tmpdivInfoTarget = divInfoTarget.text\n",
    "tmpdivInfoTargetSplit = tmpdivInfoTarget.split(\"·\")\n",
    "midInfoList = []\n",
    "\n",
    "for i in range(len(tmpdivInfoTargetSplit)):\n",
    "    midInfoList.append(tmpdivInfoTargetSplit[i])\n",
    "\n",
    "midInfoList\n",
    "# 공통된 정보 추출\n",
    "\n",
    "midInfo = \"\"\n",
    "\n",
    "for i in range(len(midInfoList)):\n",
    "    midInfo += midInfoList[i] + \" \"\n",
    "\n",
    "midInfo"
   ]
  },
  {
   "cell_type": "code",
   "execution_count": 12,
   "id": "1824c5a2-a5e9-4049-ab3f-807e969ca214",
   "metadata": {},
   "outputs": [],
   "source": [
    "divAddressTarget = bs.findAll(name = \"div\",attrs = {\"class\":\"Io6YTe fontBodyMedium\"})\n",
    "addressAndTellInfoList = []\n",
    "\n",
    "for i in range(len(divAddressTarget)):\n",
    "    addressAndTellInfoList.append(divAddressTarget[i].text)\n",
    "\n",
    "addressAndTellInfoList\n",
    "\n",
    "# 주소정보?\n",
    "\n",
    "restAddress = addressAndTellInfoList[0]\n",
    "restCallNum = addressAndTellInfoList[1]"
   ]
  },
  {
   "cell_type": "code",
   "execution_count": 13,
   "id": "143ff0ed-0afb-4793-83c9-942d1d220bf1",
   "metadata": {},
   "outputs": [
    {
     "name": "stderr",
     "output_type": "stream",
     "text": [
      "C:\\Users\\SMART23\\AppData\\Local\\Temp/ipykernel_16412/2329225967.py:2: DeprecationWarning: find_element_by_xpath is deprecated. Please use find_element(by=By.XPATH, value=xpath) instead\n",
      "  driver.find_element_by_xpath(timePath).click()\n"
     ]
    }
   ],
   "source": [
    "timePath = \"/html/body/div[3]/div[9]/div[9]/div/div/div[1]/div[3]/div/div[1]/div/div/div[2]/div[9]/div[4]/div[1]/img\"\n",
    "driver.find_element_by_xpath(timePath).click()\n",
    "time.sleep(1)\n",
    "liTimeTarget = bs.find(name = \"li\",attrs={\"class\":\"G8aQO\"})\n",
    "\n",
    "timeList = []\n",
    "timeList.append(liTimeTarget.text)\n",
    "\n",
    "timeList\n",
    "\n",
    "# 영업시간 정보\n",
    "\n",
    "restTime = timeList[0]"
   ]
  },
  {
   "cell_type": "code",
   "execution_count": 14,
   "id": "f285380b-5e6f-4f9d-a0b7-35fe892a70f1",
   "metadata": {},
   "outputs": [
    {
     "name": "stderr",
     "output_type": "stream",
     "text": [
      "C:\\Users\\SMART23\\AppData\\Local\\Temp/ipykernel_16412/3526437799.py:2: DeprecationWarning: find_element_by_xpath is deprecated. Please use find_element(by=By.XPATH, value=xpath) instead\n",
      "  driver.find_element_by_xpath(menuPath).click()\n"
     ]
    }
   ],
   "source": [
    "menuPath =\"/html/body/div[3]/div[9]/div[9]/div/div/div[1]/div[3]/div/div[1]/div/div/div[2]/div[18]/div[2]/div[2]/div[2]/button[2]/div[1]\"\n",
    "driver.find_element_by_xpath(menuPath).click()\n",
    "# 메뉴에서 사진클릭\n",
    "time.sleep(1)"
   ]
  },
  {
   "cell_type": "code",
   "execution_count": 15,
   "id": "1866b2e2-6e50-4ac9-91d9-3157ca9f11ba",
   "metadata": {},
   "outputs": [],
   "source": [
    "html = driver.page_source\n",
    "bs = bs4.BeautifulSoup(html, \"html.parser\")\n",
    "# 소스 긁어오기\n",
    "\n",
    "time.sleep(3)\n",
    "imageUrlList=[]\n",
    "\n",
    "menuImage = bs.find(name=\"div\", attrs={\"class\":\"U39Pmb\"})\n",
    "\n",
    "tmpImage = str(menuImage).split(\">\")[0].split(\";\")[0].split('\"')[-2]\n",
    "time.sleep(1)\n",
    "\n",
    "\n",
    "imageUrlList.append(tmpImage)\n",
    "\n",
    "imageUrlList\n",
    "# 이미지 리스트에 저장\n",
    "\n",
    "image = imageUrlList[0]\n",
    "\n",
    "resultList = [restauantsName,score,amountOppinion,midInfo,restAddress,restCallNum,restTime,image]"
   ]
  },
  {
   "cell_type": "code",
   "execution_count": 16,
   "id": "b3ec4e4b-10af-4646-9ce5-479aa1a72458",
   "metadata": {},
   "outputs": [
    {
     "data": {
      "text/html": [
       "<div>\n",
       "<style scoped>\n",
       "    .dataframe tbody tr th:only-of-type {\n",
       "        vertical-align: middle;\n",
       "    }\n",
       "\n",
       "    .dataframe tbody tr th {\n",
       "        vertical-align: top;\n",
       "    }\n",
       "\n",
       "    .dataframe thead th {\n",
       "        text-align: right;\n",
       "    }\n",
       "</style>\n",
       "<table border=\"1\" class=\"dataframe\">\n",
       "  <thead>\n",
       "    <tr style=\"text-align: right;\">\n",
       "      <th></th>\n",
       "      <th>restauantsName</th>\n",
       "      <th>score</th>\n",
       "      <th>amountOppinion</th>\n",
       "      <th>midInfo</th>\n",
       "      <th>restAddress</th>\n",
       "      <th>restCallNum</th>\n",
       "      <th>restTime</th>\n",
       "      <th>image</th>\n",
       "    </tr>\n",
       "  </thead>\n",
       "  <tbody>\n",
       "    <tr>\n",
       "      <th>0</th>\n",
       "      <td>에디버거</td>\n",
       "      <td>5.0·리뷰</td>\n",
       "      <td>1개리뷰</td>\n",
       "      <td>매장 내 식사     테이크아웃</td>\n",
       "      <td>서울특별시 강남구 신사동 567-35번지 101호</td>\n",
       "      <td>02-6012-5673</td>\n",
       "      <td>오전 11:30~오후 9:30</td>\n",
       "      <td>https://lh5.googleusercontent.com/p/AF1QipPaK3...</td>\n",
       "    </tr>\n",
       "  </tbody>\n",
       "</table>\n",
       "</div>"
      ],
      "text/plain": [
       "  restauantsName   score amountOppinion                          midInfo  \\\n",
       "0           에디버거  5.0·리뷰           1개리뷰          매장 내 식사     테이크아웃         \n",
       "\n",
       "                   restAddress   restCallNum          restTime  \\\n",
       "0  서울특별시 강남구 신사동 567-35번지 101호  02-6012-5673  오전 11:30~오후 9:30   \n",
       "\n",
       "                                               image  \n",
       "0  https://lh5.googleusercontent.com/p/AF1QipPaK3...  "
      ]
     },
     "execution_count": 16,
     "metadata": {},
     "output_type": "execute_result"
    }
   ],
   "source": [
    "columns = [\"restauantsName\",\"score\",\"amountOppinion\",\"midInfo\",\"restAddress\",\"restCallNum\",\"restTime\",\"image\"]\n",
    "\n",
    "pd.DataFrame(data=[resultList], columns = columns )\n",
    "# 데이터 쌓기"
   ]
  },
  {
   "cell_type": "code",
   "execution_count": null,
   "id": "331a319e-50cc-42fd-a52a-3459cb36ec9f",
   "metadata": {},
   "outputs": [],
   "source": []
  },
  {
   "cell_type": "code",
   "execution_count": null,
   "id": "db5d33c6-0896-4139-a48f-b2d81889a0f6",
   "metadata": {},
   "outputs": [],
   "source": []
  },
  {
   "cell_type": "code",
   "execution_count": null,
   "id": "b2f45e56-162c-4ed1-905a-d666f9e8ec49",
   "metadata": {},
   "outputs": [],
   "source": []
  }
 ],
 "metadata": {
  "kernelspec": {
   "display_name": "Python 3 (ipykernel)",
   "language": "python",
   "name": "python3"
  },
  "language_info": {
   "codemirror_mode": {
    "name": "ipython",
    "version": 3
   },
   "file_extension": ".py",
   "mimetype": "text/x-python",
   "name": "python",
   "nbconvert_exporter": "python",
   "pygments_lexer": "ipython3",
   "version": "3.9.7"
  }
 },
 "nbformat": 4,
 "nbformat_minor": 5
}
