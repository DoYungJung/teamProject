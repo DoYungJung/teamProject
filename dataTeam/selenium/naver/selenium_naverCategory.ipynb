{
 "cells": [
  {
   "cell_type": "code",
   "execution_count": 169,
   "id": "42d647e6-5b08-4766-9de1-3ff99d42c194",
   "metadata": {},
   "outputs": [
    {
     "name": "stderr",
     "output_type": "stream",
     "text": [
      "C:\\Users\\SMART18\\AppData\\Local\\Temp/ipykernel_9680/1759181434.py:20: DeprecationWarning: executable_path has been deprecated, please pass in a Service object\n",
      "  driver = webdriver.Chrome(driver_loc , options=options) #selenium 사용에 필요한 chromedriver.exe 파일 경로 지정\n",
      "C:\\Users\\SMART18\\AppData\\Local\\Temp/ipykernel_9680/1759181434.py:58: DeprecationWarning: find_element_by_class_name is deprecated. Please use find_element(by=By.CLASS_NAME, value=name) instead\n",
      "  search_box = driver.find_element_by_class_name(\"input_search\")\n",
      "C:\\Users\\SMART18\\AppData\\Local\\Temp/ipykernel_9680/1759181434.py:64: DeprecationWarning: find_element_by_* commands are deprecated. Please use find_element() instead\n",
      "  element = driver.find_element_by_id(\"searchIframe\")\n",
      "C:\\Users\\SMART18\\AppData\\Local\\Temp/ipykernel_9680/1759181434.py:71: DeprecationWarning: find_element_by_xpath is deprecated. Please use find_element(by=By.XPATH, value=xpath) instead\n",
      "  scroll_div = driver.find_element_by_xpath(\"/html/body/div[3]/div/div[2]/div[1]\")\n",
      "C:\\Users\\SMART18\\AppData\\Local\\Temp/ipykernel_9680/1759181434.py:88: DeprecationWarning: find_elements_by_class_name is deprecated. Please use find_elements(by=By.CLASS_NAME, value=name) instead\n",
      "  selectWeb = driver.find_elements_by_class_name(\"O9Z-o\")\n"
     ]
    }
   ],
   "source": [
    "from selenium import webdriver\n",
    "from selenium.webdriver.common.by import By\n",
    "from selenium.webdriver.common.keys import Keys\n",
    "from selenium.webdriver.support.ui import WebDriverWait\n",
    "from selenium.webdriver.support import expected_conditions as EC #selenium에서 사용할 모듈 import\n",
    "from selenium.webdriver import ActionChains\n",
    "\n",
    "import pandas as pd\n",
    "import bs4\n",
    "import time\n",
    "import requests\n",
    "from bs4 import BeautifulSoup\n",
    "import re\n",
    "import csv\n",
    "\n",
    "########라이브러리 정의\n",
    "\n",
    "options = webdriver.ChromeOptions()\n",
    "driver_loc = \"../externlib/chromedriver/chromedriver.exe\"\n",
    "driver = webdriver.Chrome(driver_loc , options=options) #selenium 사용에 필요한 chromedriver.exe 파일 경로 지정\n",
    "\n",
    "driver.get(\"https://map.naver.com/v5/\") #네이버 신 지도 \n",
    "try:\n",
    "    element = WebDriverWait(driver, 10).until(\n",
    "       EC.presence_of_element_located((By.CLASS_NAME, \"input_search\"))\n",
    "   ) #입력창이 뜰 때까지 대기\n",
    "finally:\n",
    "    pass\n",
    "\n",
    "name = \"none\"\n",
    "menu = \"none\"\n",
    "menuList=[]\n",
    "\n",
    "reviewInfo = \"none\" # 별점 방문자 블로그 리뷰수 변수\n",
    "\n",
    "divideAgeRatioStringList=\"none\"\n",
    "tmpEachAgeRatioList = []\n",
    "\n",
    "\n",
    "\n",
    "###########사용하는변수 \n",
    "targetName = \"none\" #가게이름\n",
    "targetReviewsNumber = \"none\" #가게 블로그리뷰, 방문자 리뷰수\n",
    "score = \"none\" #별점\n",
    "blogCount = \"none\" # 블로그 리뷰수\n",
    "visitCount = \"none\" # 방문자 리뷰수\n",
    "tenCen = \"none\" #10대 인기도\n",
    "twoCen=\"none\" # 20대 인기도 \n",
    "threeCen = \"none\" #30대 인기도\n",
    "fourCen = \"none\" #40대 인기도\n",
    "fiveCen =\"none\" #50대 인기도\n",
    "sixCen = \"none\" #60대 인기도\n",
    "womanRatio=\"none\" # 여성 검색 인기도\n",
    "manRatio=\"none\"   #남성 검색 인기도\n",
    "############데이터 프레임에 넣을 변수\n",
    "\n",
    "\n",
    "search_box = driver.find_element_by_class_name(\"input_search\")\n",
    "search_box.send_keys(\"건대 음식점\")\n",
    "search_box.send_keys(Keys.ENTER) #검색창에 \"서울 칵테일바\" 입력\n",
    "\n",
    "time.sleep(3) #화면 표시 기다리기\n",
    "\n",
    "element = driver.find_element_by_id(\"searchIframe\")\n",
    "\n",
    "driver.switch_to.frame(element) #프레임 이동\n",
    "time.sleep(4) #화면 표시 기다리기\n",
    "\n",
    "\n",
    "\n",
    "scroll_div = driver.find_element_by_xpath(\"/html/body/div[3]/div/div[2]/div[1]\")\n",
    "#검색 결과로 나타나는 scroll-bar 포함한 div 잡고\n",
    "driver.execute_script(\"arguments[0].scrollBy(0,2000)\", scroll_div)\n",
    "time.sleep(2)\n",
    "driver.execute_script(\"arguments[0].scrollBy(0,2000);\", scroll_div)\n",
    "time.sleep(2)\n",
    "driver.execute_script(\"arguments[0].scrollBy(0,2000);\", scroll_div)\n",
    "time.sleep(2)\n",
    "driver.execute_script(\"arguments[0].scrollBy(0,2000);\", scroll_div)\n",
    "time.sleep(2)\n",
    "driver.execute_script(\"arguments[0].scrollBy(0,2000);\", scroll_div)\n",
    "time.sleep(2)\n",
    "#여기까지 scroll\n",
    "#맨 아래까지 내려서 해당 페이지의 내용이 다 표시되게 함\n",
    "\n",
    "\n",
    "\n",
    "selectWeb = driver.find_elements_by_class_name(\"O9Z-o\")\n",
    "# 50개 선택창 아이프레임 들어갔다 나오기"
   ]
  },
  {
   "cell_type": "code",
   "execution_count": 178,
   "id": "a5965c17-35b0-4de0-8610-ff16db355d55",
   "metadata": {},
   "outputs": [],
   "source": [
    "menuList =[]\n",
    "\n",
    "finalResult = []"
   ]
  },
  {
   "cell_type": "code",
   "execution_count": 180,
   "id": "f69a0d75-32e4-450b-b7dd-e5ef15218409",
   "metadata": {},
   "outputs": [
    {
     "name": "stderr",
     "output_type": "stream",
     "text": [
      "C:\\Users\\SMART18\\AppData\\Local\\Temp/ipykernel_9680/2447647361.py:11: DeprecationWarning: find_element_by_* commands are deprecated. Please use find_element() instead\n",
      "  element = driver.find_element_by_id(\"entryIframe\")\n",
      "C:\\Users\\SMART18\\AppData\\Local\\Temp/ipykernel_9680/2447647361.py:27: DeprecationWarning: find_element_by_class_name is deprecated. Please use find_element(by=By.CLASS_NAME, value=name) instead\n",
      "  categoryInfoList = driver.find_element_by_class_name(\"_3ocDE\")\n",
      "C:\\Users\\SMART18\\AppData\\Local\\Temp/ipykernel_9680/2447647361.py:41: DeprecationWarning: find_elements_by_class_name is deprecated. Please use find_elements(by=By.CLASS_NAME, value=name) instead\n",
      "  sideInfoList = driver.find_elements_by_class_name(\"_20Ivz\")\n",
      "C:\\Users\\SMART18\\AppData\\Local\\Temp/ipykernel_9680/2447647361.py:42: DeprecationWarning: find_elements_by_class_name is deprecated. Please use find_elements(by=By.CLASS_NAME, value=name) instead\n",
      "  categoryInfoList = driver.find_elements_by_class_name(\"_3ocDE\")\n",
      "C:\\Users\\SMART18\\AppData\\Local\\Temp/ipykernel_9680/2447647361.py:50: DeprecationWarning: find_elements_by_class_name is deprecated. Please use find_elements(by=By.CLASS_NAME, value=name) instead\n",
      "  sideInfoList = driver.find_elements_by_class_name(\"_20Ivz\")\n",
      "C:\\Users\\SMART18\\AppData\\Local\\Temp/ipykernel_9680/2447647361.py:61: DeprecationWarning: find_elements_by_class_name is deprecated. Please use find_elements(by=By.CLASS_NAME, value=name) instead\n",
      "  countAmount = driver.find_elements_by_class_name(\"place_section\")\n",
      "C:\\Users\\SMART18\\AppData\\Local\\Temp/ipykernel_9680/2447647361.py:79: DeprecationWarning: find_element_by_* commands are deprecated. Please use find_element() instead\n",
      "  element = driver.find_element_by_id(\"searchIframe\")\n"
     ]
    }
   ],
   "source": [
    "for i in range(0, len(selectWeb)):\n",
    "# try:\n",
    "    time.sleep(2)\n",
    "    # 이쪽 페이지 있는거 포문으로 돌기\n",
    "    ##검색된 거 하나하나 들어가는 곳\n",
    "    selectWeb[i].click()\n",
    "    time.sleep(3)\n",
    "\n",
    "    driver.switch_to.default_content()  #프레임 빠져나오기\n",
    "\n",
    "    element = driver.find_element_by_id(\"entryIframe\")\n",
    "\n",
    "    driver.switch_to.frame(element) #프레임 이동\n",
    "    # 개별정보 접근시 프레임 이동\n",
    "    time.sleep(2)\n",
    "    ##현재 페이지 소스 가져오기\n",
    "\n",
    "    html = driver.page_source\n",
    "    time.sleep(2)\n",
    "    ## BeautifulSoup로 페이지 소스 파싱\n",
    "    bs = bs4.BeautifulSoup(html, \"html.parser\")\n",
    "    time.sleep(2)\n",
    "\n",
    "\n",
    "    name = bs.find(attrs={\"class\":\"_3XamX\"}).text\n",
    "    try:\n",
    "        categoryInfoList = driver.find_element_by_class_name(\"_3ocDE\")\n",
    "\n",
    "        gubun = categoryInfoList.text\n",
    "\n",
    "    except Exception as e:\n",
    "        gubun = \"none\"\n",
    "\n",
    "\n",
    "    time.sleep(2)\n",
    "\n",
    "    # 가게 이름\n",
    "    sideInfoList = driver.find_elements_by_class_name(\"_20Ivz\")\n",
    "    categoryInfoList = driver.find_elements_by_class_name(\"_3ocDE\")\n",
    "    step1 = sideInfoList[0].text.split(\"방문자리뷰\")\n",
    "    checkPoint = step1[0]\n",
    "\n",
    "    try:\n",
    "        if(checkPoint==\"\"):\n",
    "            pass\n",
    "        else:\n",
    "            sideInfoList = driver.find_elements_by_class_name(\"_20Ivz\")\n",
    "            time.sleep(2)\n",
    "            step1 = sideInfoList[0].text.split(\"방문자리뷰\")\n",
    "            time.sleep(2)\n",
    "            score = step1[0].split(\"\\n\")[1]\n",
    "            time.sleep(2)\n",
    "    except Exception as e:\n",
    "        print(e)\n",
    "    # 별점 있는것과 없는것 따로 구분\n",
    "    try:\n",
    "        time.sleep(2)\n",
    "        countAmount = driver.find_elements_by_class_name(\"place_section\")\n",
    "        time.sleep(2)\n",
    "\n",
    "        blogCount = \"블로그 리뷰\"+\"_\"+countAmount[0].text.split(\"블로그리뷰\")[1].split(\"\\n\")[0]\n",
    "        visitCount = \"방문자 리뷰\"+\"_\"+ countAmount[0].text.split(\"블로그리뷰\")[0].split(\"방문자리뷰\")[-1]\n",
    "\n",
    "    except Exception as e:\n",
    "        print(e)\n",
    "        time.sleep(2)\n",
    "\n",
    "    driver.switch_to.default_content()  #프레임 빠져나오기\n",
    "\n",
    "    element = driver.find_element_by_id(\"searchIframe\")\n",
    "    driver.switch_to.frame(element) #프레임 이동\n",
    "\n",
    "    tmpList = [name,gubun,score,visitCount,blogCount]\n",
    "    finalResult.append(tmpList)\n",
    "\n",
    "    checkList = [name]\n",
    "    menuList.append(checkList)"
   ]
  },
  {
   "cell_type": "code",
   "execution_count": 174,
   "id": "a69cc34c-b194-499f-8220-59962e4114b0",
   "metadata": {
    "tags": []
   },
   "outputs": [
    {
     "name": "stderr",
     "output_type": "stream",
     "text": [
      "C:\\Users\\SMART18\\AppData\\Local\\Temp/ipykernel_9680/392707679.py:1: DeprecationWarning: find_elements_by_class_name is deprecated. Please use find_elements(by=By.CLASS_NAME, value=name) instead\n",
      "  selectWeb = driver.find_elements_by_class_name(\"O9Z-o\")\n"
     ]
    }
   ],
   "source": [
    "selectWeb = driver.find_elements_by_class_name(\"O9Z-o\")"
   ]
  },
  {
   "cell_type": "code",
   "execution_count": 175,
   "id": "7d53475a-65e1-4ca2-bc9a-8249a67ba7a8",
   "metadata": {
    "scrolled": true,
    "tags": []
   },
   "outputs": [
    {
     "data": {
      "text/plain": [
       "[<selenium.webdriver.remote.webelement.WebElement (session=\"d8c2006e228176b662f6fd2fd008feee\", element=\"26b892ff-6809-4ffc-8fc7-8baa86e9d378\")>,\n",
       " <selenium.webdriver.remote.webelement.WebElement (session=\"d8c2006e228176b662f6fd2fd008feee\", element=\"992ff0b8-25a8-4994-bb37-b40587ec53c5\")>,\n",
       " <selenium.webdriver.remote.webelement.WebElement (session=\"d8c2006e228176b662f6fd2fd008feee\", element=\"5ad7cd26-4ffe-453a-b754-fe66cf25a911\")>,\n",
       " <selenium.webdriver.remote.webelement.WebElement (session=\"d8c2006e228176b662f6fd2fd008feee\", element=\"9272a1af-0d96-4ea4-a1aa-689614f2dfff\")>,\n",
       " <selenium.webdriver.remote.webelement.WebElement (session=\"d8c2006e228176b662f6fd2fd008feee\", element=\"ddffcf0e-4556-4894-974f-3c886c410dba\")>,\n",
       " <selenium.webdriver.remote.webelement.WebElement (session=\"d8c2006e228176b662f6fd2fd008feee\", element=\"837cb5c6-1634-43b6-9bec-fe63e3a68503\")>,\n",
       " <selenium.webdriver.remote.webelement.WebElement (session=\"d8c2006e228176b662f6fd2fd008feee\", element=\"4d238c85-1348-4b5a-8cfe-74244226c5ea\")>,\n",
       " <selenium.webdriver.remote.webelement.WebElement (session=\"d8c2006e228176b662f6fd2fd008feee\", element=\"2c4060c2-d5c7-40b1-9589-0d61dfae7bf9\")>,\n",
       " <selenium.webdriver.remote.webelement.WebElement (session=\"d8c2006e228176b662f6fd2fd008feee\", element=\"20b28108-4ca4-4b97-bdc9-4f116d23922d\")>,\n",
       " <selenium.webdriver.remote.webelement.WebElement (session=\"d8c2006e228176b662f6fd2fd008feee\", element=\"5ef4c942-d53f-4a8a-adbb-14aa92802e4b\")>,\n",
       " <selenium.webdriver.remote.webelement.WebElement (session=\"d8c2006e228176b662f6fd2fd008feee\", element=\"91aa50e7-1613-44db-9efe-a829d8157f27\")>,\n",
       " <selenium.webdriver.remote.webelement.WebElement (session=\"d8c2006e228176b662f6fd2fd008feee\", element=\"4bc00034-1881-4001-be6d-3585284a6bb6\")>,\n",
       " <selenium.webdriver.remote.webelement.WebElement (session=\"d8c2006e228176b662f6fd2fd008feee\", element=\"9e5a6d8d-f5f7-4d0a-a587-b7c4297b3430\")>,\n",
       " <selenium.webdriver.remote.webelement.WebElement (session=\"d8c2006e228176b662f6fd2fd008feee\", element=\"b6dd4627-bf2d-4cd5-a258-aa97d10941e6\")>,\n",
       " <selenium.webdriver.remote.webelement.WebElement (session=\"d8c2006e228176b662f6fd2fd008feee\", element=\"aa92b653-c230-48dd-95a9-34041663b03a\")>,\n",
       " <selenium.webdriver.remote.webelement.WebElement (session=\"d8c2006e228176b662f6fd2fd008feee\", element=\"76e8d330-6161-4ddd-bf95-8f6033e2c8df\")>,\n",
       " <selenium.webdriver.remote.webelement.WebElement (session=\"d8c2006e228176b662f6fd2fd008feee\", element=\"a11e1bf8-9098-4505-8bce-46261f968667\")>,\n",
       " <selenium.webdriver.remote.webelement.WebElement (session=\"d8c2006e228176b662f6fd2fd008feee\", element=\"e345e76b-88b7-49f1-b060-7fc60e34ed10\")>,\n",
       " <selenium.webdriver.remote.webelement.WebElement (session=\"d8c2006e228176b662f6fd2fd008feee\", element=\"1c5d97e5-0aee-413c-8c4c-2b44669df495\")>,\n",
       " <selenium.webdriver.remote.webelement.WebElement (session=\"d8c2006e228176b662f6fd2fd008feee\", element=\"e316f18e-72d9-46f7-be02-6b89b8f6a381\")>,\n",
       " <selenium.webdriver.remote.webelement.WebElement (session=\"d8c2006e228176b662f6fd2fd008feee\", element=\"ba06ea87-800d-44ea-947b-6bddc024b54d\")>,\n",
       " <selenium.webdriver.remote.webelement.WebElement (session=\"d8c2006e228176b662f6fd2fd008feee\", element=\"27101ffc-d465-4ae4-b304-8d53c803a6c0\")>,\n",
       " <selenium.webdriver.remote.webelement.WebElement (session=\"d8c2006e228176b662f6fd2fd008feee\", element=\"246b0df1-0f5e-474c-b8ad-c13f46b205f8\")>,\n",
       " <selenium.webdriver.remote.webelement.WebElement (session=\"d8c2006e228176b662f6fd2fd008feee\", element=\"e36e9968-2777-44a9-b414-1c405180ac8c\")>,\n",
       " <selenium.webdriver.remote.webelement.WebElement (session=\"d8c2006e228176b662f6fd2fd008feee\", element=\"d7aed1ad-92b1-4859-9738-ba372dc93b51\")>,\n",
       " <selenium.webdriver.remote.webelement.WebElement (session=\"d8c2006e228176b662f6fd2fd008feee\", element=\"0facce82-f92c-4806-b12f-224536857196\")>,\n",
       " <selenium.webdriver.remote.webelement.WebElement (session=\"d8c2006e228176b662f6fd2fd008feee\", element=\"6802b889-3938-4031-8aad-4a20f5a69148\")>,\n",
       " <selenium.webdriver.remote.webelement.WebElement (session=\"d8c2006e228176b662f6fd2fd008feee\", element=\"6d809627-c7e9-40b9-9ed5-5f5a594eedaf\")>,\n",
       " <selenium.webdriver.remote.webelement.WebElement (session=\"d8c2006e228176b662f6fd2fd008feee\", element=\"eb58a672-a1ed-493a-be65-d3bae1a2b9a7\")>,\n",
       " <selenium.webdriver.remote.webelement.WebElement (session=\"d8c2006e228176b662f6fd2fd008feee\", element=\"8f08cf0c-fa87-4267-aa02-e9ce1a7f0501\")>,\n",
       " <selenium.webdriver.remote.webelement.WebElement (session=\"d8c2006e228176b662f6fd2fd008feee\", element=\"0b51dd7a-ad40-4841-b4dd-e0b9ba02a4e2\")>,\n",
       " <selenium.webdriver.remote.webelement.WebElement (session=\"d8c2006e228176b662f6fd2fd008feee\", element=\"762770bb-b306-4472-9306-1abf76a7d572\")>,\n",
       " <selenium.webdriver.remote.webelement.WebElement (session=\"d8c2006e228176b662f6fd2fd008feee\", element=\"c3d20571-d9f9-44f1-bfe4-914a85392f12\")>,\n",
       " <selenium.webdriver.remote.webelement.WebElement (session=\"d8c2006e228176b662f6fd2fd008feee\", element=\"892ad9da-540f-4252-8803-0de1712f3bce\")>,\n",
       " <selenium.webdriver.remote.webelement.WebElement (session=\"d8c2006e228176b662f6fd2fd008feee\", element=\"4f67a0e7-edb3-44cb-9e7a-8deed9e66ef9\")>,\n",
       " <selenium.webdriver.remote.webelement.WebElement (session=\"d8c2006e228176b662f6fd2fd008feee\", element=\"96c01b37-ef44-434d-871a-105b8889a296\")>,\n",
       " <selenium.webdriver.remote.webelement.WebElement (session=\"d8c2006e228176b662f6fd2fd008feee\", element=\"f1bbc54e-f3f9-4171-89a9-5cd23064af18\")>,\n",
       " <selenium.webdriver.remote.webelement.WebElement (session=\"d8c2006e228176b662f6fd2fd008feee\", element=\"7e23c622-83a0-4cf5-8779-4f986e3944ae\")>,\n",
       " <selenium.webdriver.remote.webelement.WebElement (session=\"d8c2006e228176b662f6fd2fd008feee\", element=\"f282ed84-adb2-43ff-9ac4-6b3d8604a3e2\")>,\n",
       " <selenium.webdriver.remote.webelement.WebElement (session=\"d8c2006e228176b662f6fd2fd008feee\", element=\"aaae2e44-e4d6-429c-bbaf-794fccfa27a0\")>,\n",
       " <selenium.webdriver.remote.webelement.WebElement (session=\"d8c2006e228176b662f6fd2fd008feee\", element=\"c54e8095-7737-400e-af49-a7046d289d78\")>,\n",
       " <selenium.webdriver.remote.webelement.WebElement (session=\"d8c2006e228176b662f6fd2fd008feee\", element=\"ea52bb95-9440-4253-a4b2-67569c4dad87\")>,\n",
       " <selenium.webdriver.remote.webelement.WebElement (session=\"d8c2006e228176b662f6fd2fd008feee\", element=\"bfdc6998-49d9-44e6-8875-f08b46264ad6\")>,\n",
       " <selenium.webdriver.remote.webelement.WebElement (session=\"d8c2006e228176b662f6fd2fd008feee\", element=\"58e89fae-bffa-4817-afe9-0a7b554b5ede\")>,\n",
       " <selenium.webdriver.remote.webelement.WebElement (session=\"d8c2006e228176b662f6fd2fd008feee\", element=\"401dfc2b-2c17-45b4-8ed6-0b9b1127f104\")>,\n",
       " <selenium.webdriver.remote.webelement.WebElement (session=\"d8c2006e228176b662f6fd2fd008feee\", element=\"302d1a27-2124-4fcf-8b9c-59367185e9cc\")>,\n",
       " <selenium.webdriver.remote.webelement.WebElement (session=\"d8c2006e228176b662f6fd2fd008feee\", element=\"a67c1d61-c69d-4f18-b058-8c788c6d1449\")>,\n",
       " <selenium.webdriver.remote.webelement.WebElement (session=\"d8c2006e228176b662f6fd2fd008feee\", element=\"6ce822dc-3316-405f-892a-e288025ecdb9\")>,\n",
       " <selenium.webdriver.remote.webelement.WebElement (session=\"d8c2006e228176b662f6fd2fd008feee\", element=\"a8798201-6d75-413a-9a45-83f33645274a\")>,\n",
       " <selenium.webdriver.remote.webelement.WebElement (session=\"d8c2006e228176b662f6fd2fd008feee\", element=\"3256afe8-59b0-4f3f-ae16-858fcd388720\")>]"
      ]
     },
     "execution_count": 175,
     "metadata": {},
     "output_type": "execute_result"
    }
   ],
   "source": [
    "selectWeb"
   ]
  },
  {
   "cell_type": "code",
   "execution_count": 176,
   "id": "c8e6520a-e6bc-461d-bcef-620e998acd9d",
   "metadata": {},
   "outputs": [
    {
     "data": {
      "text/plain": [
       "50"
      ]
     },
     "execution_count": 176,
     "metadata": {},
     "output_type": "execute_result"
    }
   ],
   "source": [
    "len(selectWeb)"
   ]
  },
  {
   "cell_type": "code",
   "execution_count": 177,
   "id": "31fe5be1-f24a-4095-9afc-d187820970f1",
   "metadata": {},
   "outputs": [
    {
     "data": {
      "text/plain": [
       "'선남sea'"
      ]
     },
     "execution_count": 177,
     "metadata": {},
     "output_type": "execute_result"
    }
   ],
   "source": [
    "selectWeb[0].text"
   ]
  },
  {
   "cell_type": "code",
   "execution_count": 165,
   "id": "5fd8ad87-e98f-430c-9800-6b50a77a83f2",
   "metadata": {},
   "outputs": [],
   "source": [
    "# 확인후 데이터 프레임으로 저장"
   ]
  },
  {
   "cell_type": "code",
   "execution_count": 184,
   "id": "e4627951-679d-465f-9a76-7e7f944953e0",
   "metadata": {},
   "outputs": [],
   "source": [
    "columns = [\"name\",\"gubun\",\"score\",\"visitCount\",\"blogCount\"]"
   ]
  },
  {
   "cell_type": "code",
   "execution_count": 185,
   "id": "0018118b-bfc7-45cf-a06c-f7cd645942e1",
   "metadata": {},
   "outputs": [],
   "source": [
    "sinsa_age_gender = pd.DataFrame(data = finalResult,columns = columns)"
   ]
  },
  {
   "cell_type": "code",
   "execution_count": 187,
   "id": "b1454f81-0aa0-4102-a210-fd4fd10fdd9a",
   "metadata": {},
   "outputs": [],
   "source": [
    "sinsa_age_gender.to_csv(\"gundae6_score_final6.csv\",mode=\"w\", encoding = \"ms949\")"
   ]
  }
 ],
 "metadata": {
  "kernelspec": {
   "display_name": "Python 3 (ipykernel)",
   "language": "python",
   "name": "python3"
  },
  "language_info": {
   "codemirror_mode": {
    "name": "ipython",
    "version": 3
   },
   "file_extension": ".py",
   "mimetype": "text/x-python",
   "name": "python",
   "nbconvert_exporter": "python",
   "pygments_lexer": "ipython3",
   "version": "3.9.7"
  }
 },
 "nbformat": 4,
 "nbformat_minor": 5
}
