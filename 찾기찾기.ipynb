{
 "cells": [
  {
   "cell_type": "code",
   "execution_count": 1,
   "id": "910f2b35-3e65-427f-8639-5b258b4bcbee",
   "metadata": {},
   "outputs": [
    {
     "name": "stderr",
     "output_type": "stream",
     "text": [
      "C:\\Users\\SMART23\\AppData\\Local\\Temp/ipykernel_16680/36337991.py:20: DeprecationWarning: executable_path has been deprecated, please pass in a Service object\n",
      "  driver =webdriver.Chrome(driver_loc , options=options)\n"
     ]
    }
   ],
   "source": [
    "#라이브러리 선언\n",
    "from selenium import webdriver\n",
    "#드라이버 위치 설정\n",
    "driver_loc = \"../externlib/chromedriver/chromedriver.exe\"\n",
    "#드라이버 옵션 설정\n",
    "options = webdriver.ChromeOptions()\n",
    "# options.add_argument(\"window-size=1920x1080\")\n",
    "options.add_argument(\"--start-maximized\")\n",
    "#헤드리스 설정 시 리눅스 같이 웹화면 없는경우에도 웹페이지 실행가능함\n",
    "#options.add_argument ('headless')\n",
    "#options.add_argument (\"disable gpu\")\n",
    "#웹 드라이버 정의\n",
    "\n",
    "import time\n",
    "import pandas as pd\n",
    "import bs4\n",
    "import requests\n",
    "from bs4 import BeautifulSoup \n",
    "\n",
    "driver =webdriver.Chrome(driver_loc , options=options)\n",
    "# #웹페이지 파싱 될때까지 최대 3 초 기다림\n",
    "# driver.implicitly_wait\n",
    "# 웹페이지 객체 생성"
   ]
  },
  {
   "cell_type": "code",
   "execution_count": 2,
   "id": "a383e076-ac28-4741-b8e7-eb04e50c9fa5",
   "metadata": {},
   "outputs": [],
   "source": [
    "# import pyperclip\n",
    "\n",
    "baseUrl = \"https://www.google.com\"\n",
    "driver.get(baseUrl)\n",
    "time.sleep(2)\n",
    "# url을 설정하여 객체의 url변경"
   ]
  },
  {
   "cell_type": "code",
   "execution_count": 3,
   "id": "bf8b290d-f10e-4d03-891e-c3d955cfccd3",
   "metadata": {},
   "outputs": [],
   "source": [
    "#셀레니움 에서 원하는 기능선택후 우클릭 검사 -> copy -> copy full X path?"
   ]
  },
  {
   "cell_type": "code",
   "execution_count": 6,
   "id": "4b8b32d4-34b0-4e09-b9fe-8808c2b290bf",
   "metadata": {},
   "outputs": [
    {
     "name": "stderr",
     "output_type": "stream",
     "text": [
      "C:\\Users\\SMART23\\AppData\\Local\\Temp/ipykernel_16680/2355642971.py:3: DeprecationWarning: find_element_by_xpath is deprecated. Please use find_element(by=By.XPATH, value=xpath) instead\n",
      "  driver.find_element_by_xpath(googleSearchInput).send_keys(inputKey)\n",
      "C:\\Users\\SMART23\\AppData\\Local\\Temp/ipykernel_16680/2355642971.py:7: DeprecationWarning: find_element_by_xpath is deprecated. Please use find_element(by=By.XPATH, value=xpath) instead\n",
      "  driver.find_element_by_xpath(btnXpath).click()\n"
     ]
    }
   ],
   "source": [
    "googleSearchInput = \"/html/body/div[1]/div[3]/form/div[1]/div[1]/div[1]/div/div[2]/input\"\n",
    "inputKey = \"신사동 에디버거\"\n",
    "driver.find_element_by_xpath(googleSearchInput).send_keys(inputKey)\n",
    "# 검색창에 inputKey 를 입력\n",
    "\n",
    "btnXpath = \"/html/body/div[1]/div[3]/form/div[1]/div[1]/div[3]/center/input[1]\"\n",
    "driver.find_element_by_xpath(btnXpath).click()\n",
    "# 입력한 후 google검색 클릭"
   ]
  },
  {
   "cell_type": "code",
   "execution_count": 7,
   "id": "7674a3c2-1f91-4902-b9ac-49e12a3d3159",
   "metadata": {},
   "outputs": [
    {
     "name": "stderr",
     "output_type": "stream",
     "text": [
      "C:\\Users\\SMART23\\AppData\\Local\\Temp/ipykernel_16680/4045493334.py:2: DeprecationWarning: find_element_by_xpath is deprecated. Please use find_element(by=By.XPATH, value=xpath) instead\n",
      "  driver.find_element_by_xpath(mapXpath).click()\n",
      "C:\\Users\\SMART23\\AppData\\Local\\Temp/ipykernel_16680/4045493334.py:5: DeprecationWarning: find_element_by_xpath is deprecated. Please use find_element(by=By.XPATH, value=xpath) instead\n",
      "  driver.find_element_by_xpath(firstSelectPath).click()\n"
     ]
    }
   ],
   "source": [
    "mapXpath = \"/html/body/div[7]/div/div[4]/div/div[1]/div/div[1]/div/div[2]/a\"\n",
    "driver.find_element_by_xpath(mapXpath).click()\n",
    "\n",
    "firstSelectPath = \"/html/body/div[3]/div[9]/div[9]/div/div/div[1]/div[2]/div/div[1]/div/div/div[2]/div[1]/div[1]/div/a\"\n",
    "driver.find_element_by_xpath(firstSelectPath).click()\n",
    "# google지도로 이동하여 첫번째 정보 클릭"
   ]
  },
  {
   "cell_type": "code",
   "execution_count": 8,
   "id": "55ca7eb9-ca6f-489a-afc3-b2a791f27887",
   "metadata": {},
   "outputs": [],
   "source": [
    "html = driver.page_source\n",
    "bs = bs4.BeautifulSoup(html, \"html.parser\")\n",
    "\n",
    "# 현재 페이지 소스 긁어오기"
   ]
  },
  {
   "cell_type": "code",
   "execution_count": 10,
   "id": "6c19ea06-5144-4a78-8fd4-b2ff27fec532",
   "metadata": {},
   "outputs": [
    {
     "data": {
      "text/plain": [
       "['에디버거', '5.0·리뷰', '1개리뷰', '없음음식점·']"
      ]
     },
     "execution_count": 10,
     "metadata": {},
     "output_type": "execute_result"
    }
   ],
   "source": [
    "pageSource = bs.find(name = \"div\", attrs={\"class\":\"tAiQdd\"})\n",
    "tmpPageSource = pageSource.text\n",
    "tmpPageSourceSplit = tmpPageSource.split(\" \")\n",
    "restuarantsTitleList = []\n",
    "\n",
    "for i in range(len(tmpPageSourceSplit)):\n",
    "    if(tmpPageSourceSplit[i] != ''):\n",
    "        restuarantsTitleList.append(tmpPageSourceSplit[i])\n",
    "\n",
    "restuarantsTitleList\n",
    "# 제목 및 별점 리뷰 갯수"
   ]
  },
  {
   "cell_type": "code",
   "execution_count": 11,
   "id": "260e6122-63fb-40e1-bbd6-34bd65008e52",
   "metadata": {},
   "outputs": [
    {
     "data": {
      "text/plain": [
       "['     ', '  매장 내 식사  ', '  테이크아웃     ']"
      ]
     },
     "execution_count": 11,
     "metadata": {},
     "output_type": "execute_result"
    }
   ],
   "source": [
    "divInfoTarget = bs.find(name =\"div\", attrs={\"class\":\"WeS02d fontBodyMedium\"})\n",
    "tmpdivInfoTarget = divInfoTarget.text\n",
    "tmpdivInfoTargetSplit = tmpdivInfoTarget.split(\"·\")\n",
    "midInfo = []\n",
    "\n",
    "for i in range(len(tmpdivInfoTargetSplit)):\n",
    "    midInfo.append(tmpdivInfoTargetSplit[i])\n",
    "\n",
    "midInfo\n",
    "# 공통된 정보 추출"
   ]
  },
  {
   "cell_type": "code",
   "execution_count": 13,
   "id": "29d83cbe-c6c0-481a-a7cc-c3f19a8182d2",
   "metadata": {},
   "outputs": [
    {
     "data": {
      "text/plain": [
       "['서울특별시 강남구 신사동 567-35번지 101호',\n",
       " '02-6012-5673',\n",
       " 'G2FG+69 서울특별시',\n",
       " '휴대전화로 보내기',\n",
       " '비즈니스에 대한 소유권 주장']"
      ]
     },
     "execution_count": 13,
     "metadata": {},
     "output_type": "execute_result"
    }
   ],
   "source": [
    "divAddressTarget = bs.findAll(name = \"div\",attrs = {\"class\":\"Io6YTe fontBodyMedium\"})\n",
    "addressAndTellInfoList = []\n",
    "\n",
    "for i in range(len(divAddressTarget)):\n",
    "    addressAndTellInfoList.append(divAddressTarget[i].text)\n",
    "\n",
    "addressAndTellInfoList\n",
    "\n",
    "# 주소정보?"
   ]
  },
  {
   "cell_type": "code",
   "execution_count": 18,
   "id": "35d11905-81b0-4605-b2da-1651569c2991",
   "metadata": {},
   "outputs": [
    {
     "name": "stderr",
     "output_type": "stream",
     "text": [
      "C:\\Users\\SMART23\\AppData\\Local\\Temp/ipykernel_16680/3037344640.py:2: DeprecationWarning: find_element_by_xpath is deprecated. Please use find_element(by=By.XPATH, value=xpath) instead\n",
      "  driver.find_element_by_xpath(timePath).click()\n"
     ]
    },
    {
     "data": {
      "text/plain": [
       "['오전 11:30~오후 9:30']"
      ]
     },
     "execution_count": 18,
     "metadata": {},
     "output_type": "execute_result"
    }
   ],
   "source": [
    "timePath = \"/html/body/div[3]/div[9]/div[9]/div/div/div[1]/div[3]/div/div[1]/div/div/div[2]/div[9]/div[4]/div[1]/img\"\n",
    "driver.find_element_by_xpath(timePath).click()\n",
    "liTimeTarget = bs.find(name = \"li\",attrs={\"class\":\"G8aQO\"})\n",
    "\n",
    "timeList = []\n",
    "timeList.append(liTimeTarget.text)\n",
    "\n",
    "timeList\n",
    "\n",
    "# 영업시간 정보"
   ]
  },
  {
   "cell_type": "code",
   "execution_count": 19,
   "id": "f285380b-5e6f-4f9d-a0b7-35fe892a70f1",
   "metadata": {},
   "outputs": [],
   "source": [
    "menuPath =\"/html/body/div[3]/div[9]/div[9]/div/div/div[1]/div[3]/div/div[1]/div/div/div[2]/div[18]/div[2]/div[2]/div[2]/button[2]/div[1]\"\n",
    "driver.find_element_by_xpath(menuPath).click()\n",
    "# 메뉴에서 사진클릭"
   ]
  },
  {
   "cell_type": "code",
   "execution_count": 21,
   "id": "81fbe4a1-68c2-48f9-b7f3-fe05c0bd9479",
   "metadata": {},
   "outputs": [
    {
     "data": {
      "text/plain": [
       "['https://lh5.googleusercontent.com/p/AF1QipPaK3vb0iFUM05s5RLXL6wblO_s5qb0HsDlaYww=s508-k-no']"
      ]
     },
     "execution_count": 21,
     "metadata": {},
     "output_type": "execute_result"
    }
   ],
   "source": [
    "html = driver.page_source\n",
    "bs = bs4.BeautifulSoup(html, \"html.parser\")\n",
    "# 소스 긁어오기\n",
    "\n",
    "imageUrlList=[]\n",
    "\n",
    "menuImage = bs.find(name=\"div\", attrs={\"class\":\"U39Pmb\"})\n",
    "tmpImage = str(list(menuImage)[1]).split(';')[2]\n",
    "tmpImageSplit = tmpImage.split('\"')[1]\n",
    "imageUrlList.append(tmpImageSplit)\n",
    "\n",
    "imageUrlList\n",
    "# 이미지 리스트에 저장"
   ]
  },
  {
   "cell_type": "code",
   "execution_count": null,
   "id": "58f0374e-b170-45c2-b86f-505c80acf60a",
   "metadata": {},
   "outputs": [],
   "source": []
  },
  {
   "cell_type": "code",
   "execution_count": null,
   "id": "331a319e-50cc-42fd-a52a-3459cb36ec9f",
   "metadata": {},
   "outputs": [],
   "source": []
  },
  {
   "cell_type": "code",
   "execution_count": null,
   "id": "db5d33c6-0896-4139-a48f-b2d81889a0f6",
   "metadata": {},
   "outputs": [],
   "source": []
  },
  {
   "cell_type": "code",
   "execution_count": null,
   "id": "b2f45e56-162c-4ed1-905a-d666f9e8ec49",
   "metadata": {},
   "outputs": [],
   "source": []
  }
 ],
 "metadata": {
  "kernelspec": {
   "display_name": "Python 3 (ipykernel)",
   "language": "python",
   "name": "python3"
  },
  "language_info": {
   "codemirror_mode": {
    "name": "ipython",
    "version": 3
   },
   "file_extension": ".py",
   "mimetype": "text/x-python",
   "name": "python",
   "nbconvert_exporter": "python",
   "pygments_lexer": "ipython3",
   "version": "3.9.7"
  }
 },
 "nbformat": 4,
 "nbformat_minor": 5
}
